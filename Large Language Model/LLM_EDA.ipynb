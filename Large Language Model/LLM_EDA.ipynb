{
 "cells": [
  {
   "cell_type": "code",
   "execution_count": 1,
   "metadata": {},
   "outputs": [
    {
     "name": "stderr",
     "output_type": "stream",
     "text": [
      "<>:7: SyntaxWarning: invalid escape sequence '\\d'\n",
      "<>:7: SyntaxWarning: invalid escape sequence '\\d'\n",
      "C:\\Users\\aungh\\AppData\\Local\\Temp\\ipykernel_42240\\1469643195.py:7: SyntaxWarning: invalid escape sequence '\\d'\n",
      "  df = pd.read_csv('D:\\data analyst\\Large Language Model\\llm_comparison_dataset.csv')\n",
      "d:\\Anaconda3\\envs\\python_course\\Lib\\site-packages\\tqdm\\auto.py:21: TqdmWarning: IProgress not found. Please update jupyter and ipywidgets. See https://ipywidgets.readthedocs.io/en/stable/user_install.html\n",
      "  from .autonotebook import tqdm as notebook_tqdm\n"
     ]
    }
   ],
   "source": [
    "import pandas as pd\n",
    "from datasets import load_dataset\n",
    "import matplotlib.pyplot as plt  \n",
    "import matplotlib.ticker as ticker\n",
    "import seaborn as sns\n",
    "\n",
    "df = pd.read_csv('D:\\data analyst\\Large Language Model\\llm_comparison_dataset.csv')"
   ]
  },
  {
   "cell_type": "markdown",
   "metadata": {},
   "source": [
    "Exploratory Data Analysis"
   ]
  },
  {
   "cell_type": "code",
   "execution_count": 2,
   "metadata": {},
   "outputs": [
    {
     "data": {
      "text/html": [
       "<div>\n",
       "<style scoped>\n",
       "    .dataframe tbody tr th:only-of-type {\n",
       "        vertical-align: middle;\n",
       "    }\n",
       "\n",
       "    .dataframe tbody tr th {\n",
       "        vertical-align: top;\n",
       "    }\n",
       "\n",
       "    .dataframe thead th {\n",
       "        text-align: right;\n",
       "    }\n",
       "</style>\n",
       "<table border=\"1\" class=\"dataframe\">\n",
       "  <thead>\n",
       "    <tr style=\"text-align: right;\">\n",
       "      <th></th>\n",
       "      <th>Model</th>\n",
       "      <th>Provider</th>\n",
       "      <th>Context Window</th>\n",
       "      <th>Speed (tokens/sec)</th>\n",
       "      <th>Latency (sec)</th>\n",
       "      <th>Benchmark (MMLU)</th>\n",
       "      <th>Benchmark (Chatbot Arena)</th>\n",
       "      <th>Open-Source</th>\n",
       "      <th>Price / Million Tokens</th>\n",
       "      <th>Training Dataset Size</th>\n",
       "      <th>Compute Power</th>\n",
       "      <th>Energy Efficiency</th>\n",
       "      <th>Quality Rating</th>\n",
       "      <th>Speed Rating</th>\n",
       "      <th>Price Rating</th>\n",
       "    </tr>\n",
       "  </thead>\n",
       "  <tbody>\n",
       "    <tr>\n",
       "      <th>0</th>\n",
       "      <td>DeepSeek-4</td>\n",
       "      <td>Deepseek</td>\n",
       "      <td>128000</td>\n",
       "      <td>95</td>\n",
       "      <td>2.74</td>\n",
       "      <td>85</td>\n",
       "      <td>1143</td>\n",
       "      <td>1</td>\n",
       "      <td>18.81</td>\n",
       "      <td>760952565</td>\n",
       "      <td>13</td>\n",
       "      <td>0.50</td>\n",
       "      <td>2</td>\n",
       "      <td>2</td>\n",
       "      <td>3</td>\n",
       "    </tr>\n",
       "    <tr>\n",
       "      <th>1</th>\n",
       "      <td>Llama-8</td>\n",
       "      <td>Meta AI</td>\n",
       "      <td>300000</td>\n",
       "      <td>284</td>\n",
       "      <td>3.21</td>\n",
       "      <td>71</td>\n",
       "      <td>1390</td>\n",
       "      <td>1</td>\n",
       "      <td>3.98</td>\n",
       "      <td>22891342</td>\n",
       "      <td>22</td>\n",
       "      <td>2.07</td>\n",
       "      <td>1</td>\n",
       "      <td>3</td>\n",
       "      <td>3</td>\n",
       "    </tr>\n",
       "    <tr>\n",
       "      <th>2</th>\n",
       "      <td>Llama-5</td>\n",
       "      <td>Meta AI</td>\n",
       "      <td>300000</td>\n",
       "      <td>225</td>\n",
       "      <td>2.95</td>\n",
       "      <td>85</td>\n",
       "      <td>1406</td>\n",
       "      <td>0</td>\n",
       "      <td>1.02</td>\n",
       "      <td>827422145</td>\n",
       "      <td>21</td>\n",
       "      <td>0.95</td>\n",
       "      <td>2</td>\n",
       "      <td>3</td>\n",
       "      <td>2</td>\n",
       "    </tr>\n",
       "    <tr>\n",
       "      <th>3</th>\n",
       "      <td>DeepSeek-3</td>\n",
       "      <td>Deepseek</td>\n",
       "      <td>2000000</td>\n",
       "      <td>242</td>\n",
       "      <td>12.89</td>\n",
       "      <td>72</td>\n",
       "      <td>1264</td>\n",
       "      <td>1</td>\n",
       "      <td>27.63</td>\n",
       "      <td>694305632</td>\n",
       "      <td>86</td>\n",
       "      <td>3.51</td>\n",
       "      <td>1</td>\n",
       "      <td>3</td>\n",
       "      <td>3</td>\n",
       "    </tr>\n",
       "    <tr>\n",
       "      <th>4</th>\n",
       "      <td>DeepSeek-8</td>\n",
       "      <td>Deepseek</td>\n",
       "      <td>1000000</td>\n",
       "      <td>71</td>\n",
       "      <td>3.80</td>\n",
       "      <td>77</td>\n",
       "      <td>1381</td>\n",
       "      <td>1</td>\n",
       "      <td>18.52</td>\n",
       "      <td>378552278</td>\n",
       "      <td>92</td>\n",
       "      <td>1.80</td>\n",
       "      <td>2</td>\n",
       "      <td>2</td>\n",
       "      <td>3</td>\n",
       "    </tr>\n",
       "  </tbody>\n",
       "</table>\n",
       "</div>"
      ],
      "text/plain": [
       "        Model  Provider  Context Window  Speed (tokens/sec)  Latency (sec)  \\\n",
       "0  DeepSeek-4  Deepseek          128000                  95           2.74   \n",
       "1     Llama-8   Meta AI          300000                 284           3.21   \n",
       "2     Llama-5   Meta AI          300000                 225           2.95   \n",
       "3  DeepSeek-3  Deepseek         2000000                 242          12.89   \n",
       "4  DeepSeek-8  Deepseek         1000000                  71           3.80   \n",
       "\n",
       "   Benchmark (MMLU)  Benchmark (Chatbot Arena)  Open-Source  \\\n",
       "0                85                       1143            1   \n",
       "1                71                       1390            1   \n",
       "2                85                       1406            0   \n",
       "3                72                       1264            1   \n",
       "4                77                       1381            1   \n",
       "\n",
       "   Price / Million Tokens  Training Dataset Size  Compute Power  \\\n",
       "0                   18.81              760952565             13   \n",
       "1                    3.98               22891342             22   \n",
       "2                    1.02              827422145             21   \n",
       "3                   27.63              694305632             86   \n",
       "4                   18.52              378552278             92   \n",
       "\n",
       "   Energy Efficiency  Quality Rating  Speed Rating  Price Rating  \n",
       "0               0.50               2             2             3  \n",
       "1               2.07               1             3             3  \n",
       "2               0.95               2             3             2  \n",
       "3               3.51               1             3             3  \n",
       "4               1.80               2             2             3  "
      ]
     },
     "execution_count": 2,
     "metadata": {},
     "output_type": "execute_result"
    }
   ],
   "source": [
    "df.head()"
   ]
  },
  {
   "cell_type": "markdown",
   "metadata": {},
   "source": [
    "Change 1 and 0 into True and False(df['Open-Source'])"
   ]
  },
  {
   "cell_type": "code",
   "execution_count": 3,
   "metadata": {},
   "outputs": [
    {
     "data": {
      "text/plain": [
       "0       True\n",
       "1       True\n",
       "2      False\n",
       "3       True\n",
       "4       True\n",
       "       ...  \n",
       "195    False\n",
       "196     True\n",
       "197     True\n",
       "198     True\n",
       "199    False\n",
       "Name: Open-Source, Length: 200, dtype: bool"
      ]
     },
     "execution_count": 3,
     "metadata": {},
     "output_type": "execute_result"
    }
   ],
   "source": [
    "df['Open-Source'] = df['Open-Source'].astype(bool)\n",
    "df['Open-Source']"
   ]
  },
  {
   "cell_type": "markdown",
   "metadata": {},
   "source": [
    "#What are the major provider in the market?"
   ]
  },
  {
   "cell_type": "code",
   "execution_count": 4,
   "metadata": {},
   "outputs": [
    {
     "data": {
      "image/png": "[encoded data removed]",
      "text/plain": [
       "<Figure size 640x480 with 1 Axes>"
      ]
     },
     "metadata": {},
     "output_type": "display_data"
    }
   ],
   "source": [
    "df_provider = df.groupby('Provider').size().reset_index(name='Models')\n",
    "sns.set_theme(style='ticks')\n",
    "sns.barplot(data=df_provider, x='Models', y='Provider',palette='viridis',legend=False,hue='Provider')\n",
    "\n",
    "\n",
    "plt.title('Large Language Models Provider')\n",
    "plt.tight_layout()\n",
    "plt.show()\n"
   ]
  },
  {
   "cell_type": "markdown",
   "metadata": {},
   "source": [
    "Top 3 Provider in Markets"
   ]
  },
  {
   "cell_type": "code",
   "execution_count": 5,
   "metadata": {},
   "outputs": [
    {
     "data": {
      "image/png": "[encoded data removed]",
      "text/plain": [
       "<Figure size 640x480 with 1 Axes>"
      ]
     },
     "metadata": {},
     "output_type": "display_data"
    }
   ],
   "source": [
    "top3_provider = df['Provider'].value_counts().head(3).reset_index()\n",
    "top3_provider.columns = ['Provider','Count']\n",
    "\n",
    "# Set theme\n",
    "sns.set_theme(style='ticks')\n",
    "\n",
    "# Corrected barplot with explicit x and y\n",
    "sns.barplot(data=top3_provider, x='Count', y='Provider', hue='Provider', palette='viridis', legend=False)\n",
    "\n",
    "# Title and layout\n",
    "plt.title('Top 3 Models Provider')\n",
    "plt.tight_layout()\n",
    "plt.show()"
   ]
  },
  {
   "cell_type": "markdown",
   "metadata": {},
   "source": [
    "How many Open source in the market?"
   ]
  },
  {
   "cell_type": "code",
   "execution_count": 6,
   "metadata": {},
   "outputs": [
    {
     "data": {
      "image/png": "[encoded data removed]",
      "text/plain": [
       "<Figure size 640x480 with 1 Axes>"
      ]
     },
     "metadata": {},
     "output_type": "display_data"
    }
   ],
   "source": [
    "open_source = df['Open-Source'].value_counts()\n",
    "\n",
    "sns.set_theme(style='darkgrid')\n",
    "open_source.plot(kind='pie', startangle=180, autopct='%1.0f%%', labels=[''] * len(open_source))\n",
    "plt.title('Chart of Open-Source in the Market')\n",
    "plt.ylabel(\"Open-Source\")\n",
    "plt.show()"
   ]
  },
  {
   "cell_type": "markdown",
   "metadata": {},
   "source": [
    "Which provider has the best models?"
   ]
  },
  {
   "cell_type": "code",
   "execution_count": 7,
   "metadata": {},
   "outputs": [
    {
     "data": {
      "text/html": [
       "<div>\n",
       "<style scoped>\n",
       "    .dataframe tbody tr th:only-of-type {\n",
       "        vertical-align: middle;\n",
       "    }\n",
       "\n",
       "    .dataframe tbody tr th {\n",
       "        vertical-align: top;\n",
       "    }\n",
       "\n",
       "    .dataframe thead th {\n",
       "        text-align: right;\n",
       "    }\n",
       "</style>\n",
       "<table border=\"1\" class=\"dataframe\">\n",
       "  <thead>\n",
       "    <tr style=\"text-align: right;\">\n",
       "      <th></th>\n",
       "      <th>Quality Rating</th>\n",
       "      <th>Speed Rating</th>\n",
       "      <th>Price Rating</th>\n",
       "    </tr>\n",
       "    <tr>\n",
       "      <th>Provider</th>\n",
       "      <th></th>\n",
       "      <th></th>\n",
       "      <th></th>\n",
       "    </tr>\n",
       "  </thead>\n",
       "  <tbody>\n",
       "    <tr>\n",
       "      <th>AWS</th>\n",
       "      <td>2.000000</td>\n",
       "      <td>2.222222</td>\n",
       "      <td>2.814815</td>\n",
       "    </tr>\n",
       "    <tr>\n",
       "      <th>Anthropic</th>\n",
       "      <td>1.882353</td>\n",
       "      <td>2.117647</td>\n",
       "      <td>3.000000</td>\n",
       "    </tr>\n",
       "    <tr>\n",
       "      <th>Cohere</th>\n",
       "      <td>1.911765</td>\n",
       "      <td>2.235294</td>\n",
       "      <td>2.911765</td>\n",
       "    </tr>\n",
       "    <tr>\n",
       "      <th>Deepseek</th>\n",
       "      <td>1.954545</td>\n",
       "      <td>2.227273</td>\n",
       "      <td>2.954545</td>\n",
       "    </tr>\n",
       "    <tr>\n",
       "      <th>Google</th>\n",
       "      <td>1.434783</td>\n",
       "      <td>2.565217</td>\n",
       "      <td>2.956522</td>\n",
       "    </tr>\n",
       "    <tr>\n",
       "      <th>Meta AI</th>\n",
       "      <td>1.826087</td>\n",
       "      <td>2.347826</td>\n",
       "      <td>2.869565</td>\n",
       "    </tr>\n",
       "    <tr>\n",
       "      <th>Mistral AI</th>\n",
       "      <td>2.000000</td>\n",
       "      <td>2.217391</td>\n",
       "      <td>2.913043</td>\n",
       "    </tr>\n",
       "    <tr>\n",
       "      <th>OpenAI</th>\n",
       "      <td>2.096774</td>\n",
       "      <td>2.258065</td>\n",
       "      <td>2.903226</td>\n",
       "    </tr>\n",
       "  </tbody>\n",
       "</table>\n",
       "</div>"
      ],
      "text/plain": [
       "            Quality Rating  Speed Rating  Price Rating\n",
       "Provider                                              \n",
       "AWS               2.000000      2.222222      2.814815\n",
       "Anthropic         1.882353      2.117647      3.000000\n",
       "Cohere            1.911765      2.235294      2.911765\n",
       "Deepseek          1.954545      2.227273      2.954545\n",
       "Google            1.434783      2.565217      2.956522\n",
       "Meta AI           1.826087      2.347826      2.869565\n",
       "Mistral AI        2.000000      2.217391      2.913043\n",
       "OpenAI            2.096774      2.258065      2.903226"
      ]
     },
     "execution_count": 7,
     "metadata": {},
     "output_type": "execute_result"
    }
   ],
   "source": [
    "df_provider_metrics = df.groupby('Provider')[['Quality Rating','Speed Rating','Price Rating']].mean()\n",
    "df_provider_metrics"
   ]
  },
  {
   "cell_type": "code",
   "execution_count": 8,
   "metadata": {},
   "outputs": [
    {
     "data": {
      "image/png": "[encoded data removed]",
      "text/plain": [
       "<Figure size 1000x500 with 1 Axes>"
      ]
     },
     "metadata": {},
     "output_type": "display_data"
    }
   ],
   "source": [
    "df_melted = df_provider_metrics.reset_index().melt(id_vars='Provider', var_name='Rating Type', value_name='Value')\n",
    "\n",
    "plt.figure(figsize=(10, 5))\n",
    "sns.barplot(data=df_melted, x='Provider', y='Value', hue='Rating Type', palette='viridis')\n",
    "plt.title('Provider Ratings Comparison')\n",
    "plt.ylabel('Average Rating')\n",
    "plt.xlabel('Provider')\n",
    "plt.legend(title='Rating Type', bbox_to_anchor=(1.05, 1), loc='upper left')\n",
    "plt.show()"
   ]
  },
  {
   "cell_type": "markdown",
   "metadata": {},
   "source": [
    "1.Quality Rating:\n",
    " OpenAI leads in quality, making it the best option for high-quality outputs, while Google ranks the lowest in this category.\n",
    "\n",
    "2.Speed Rating:\n",
    " Google is the fastest provider, significantly outperforming others in speed. On the other hand, Anthropic has the slowest response times, making it less ideal for speed-sensitive applications.\n",
    "\n",
    "3.Price Rating:\n",
    " Google is also the most expensive option, which may impact cost-conscious users. AWS, however, stands out as the most affordable provider, making it a budget-friendly choice."
   ]
  },
  {
   "cell_type": "code",
   "execution_count": null,
   "metadata": {},
   "outputs": [
    {
     "ename": "ValueError",
     "evalue": "could not convert string to float: 'DeepSeek-4'",
     "output_type": "error",
     "traceback": [
      "\u001b[31m---------------------------------------------------------------------------\u001b[39m",
      "\u001b[31mValueError\u001b[39m                                Traceback (most recent call last)",
      "\u001b[36mCell\u001b[39m\u001b[36m \u001b[39m\u001b[32mIn[26]\u001b[39m\u001b[32m, line 1\u001b[39m\n\u001b[32m----> \u001b[39m\u001b[32m1\u001b[39m \u001b[43msns\u001b[49m\u001b[43m.\u001b[49m\u001b[43mheatmap\u001b[49m\u001b[43m(\u001b[49m\u001b[43mdata\u001b[49m\u001b[43m=\u001b[49m\u001b[43mdf\u001b[49m\u001b[43m)\u001b[49m\n",
      "\u001b[36mFile \u001b[39m\u001b[32md:\\Anaconda3\\envs\\python_course\\Lib\\site-packages\\seaborn\\matrix.py:446\u001b[39m, in \u001b[36mheatmap\u001b[39m\u001b[34m(data, vmin, vmax, cmap, center, robust, annot, fmt, annot_kws, linewidths, linecolor, cbar, cbar_kws, cbar_ax, square, xticklabels, yticklabels, mask, ax, **kwargs)\u001b[39m\n\u001b[32m    365\u001b[39m \u001b[38;5;250m\u001b[39m\u001b[33;03m\"\"\"Plot rectangular data as a color-encoded matrix.\u001b[39;00m\n\u001b[32m    366\u001b[39m \n\u001b[32m    367\u001b[39m \u001b[33;03mThis is an Axes-level function and will draw the heatmap into the\u001b[39;00m\n\u001b[32m   (...)\u001b[39m\u001b[32m    443\u001b[39m \n\u001b[32m    444\u001b[39m \u001b[33;03m\"\"\"\u001b[39;00m\n\u001b[32m    445\u001b[39m \u001b[38;5;66;03m# Initialize the plotter object\u001b[39;00m\n\u001b[32m--> \u001b[39m\u001b[32m446\u001b[39m plotter = \u001b[43m_HeatMapper\u001b[49m\u001b[43m(\u001b[49m\u001b[43mdata\u001b[49m\u001b[43m,\u001b[49m\u001b[43m \u001b[49m\u001b[43mvmin\u001b[49m\u001b[43m,\u001b[49m\u001b[43m \u001b[49m\u001b[43mvmax\u001b[49m\u001b[43m,\u001b[49m\u001b[43m \u001b[49m\u001b[43mcmap\u001b[49m\u001b[43m,\u001b[49m\u001b[43m \u001b[49m\u001b[43mcenter\u001b[49m\u001b[43m,\u001b[49m\u001b[43m \u001b[49m\u001b[43mrobust\u001b[49m\u001b[43m,\u001b[49m\u001b[43m \u001b[49m\u001b[43mannot\u001b[49m\u001b[43m,\u001b[49m\u001b[43m \u001b[49m\u001b[43mfmt\u001b[49m\u001b[43m,\u001b[49m\n\u001b[32m    447\u001b[39m \u001b[43m                      \u001b[49m\u001b[43mannot_kws\u001b[49m\u001b[43m,\u001b[49m\u001b[43m \u001b[49m\u001b[43mcbar\u001b[49m\u001b[43m,\u001b[49m\u001b[43m \u001b[49m\u001b[43mcbar_kws\u001b[49m\u001b[43m,\u001b[49m\u001b[43m \u001b[49m\u001b[43mxticklabels\u001b[49m\u001b[43m,\u001b[49m\n\u001b[32m    448\u001b[39m \u001b[43m                      \u001b[49m\u001b[43myticklabels\u001b[49m\u001b[43m,\u001b[49m\u001b[43m \u001b[49m\u001b[43mmask\u001b[49m\u001b[43m)\u001b[49m\n\u001b[32m    450\u001b[39m \u001b[38;5;66;03m# Add the pcolormesh kwargs here\u001b[39;00m\n\u001b[32m    451\u001b[39m kwargs[\u001b[33m\"\u001b[39m\u001b[33mlinewidths\u001b[39m\u001b[33m\"\u001b[39m] = linewidths\n",
      "\u001b[36mFile \u001b[39m\u001b[32md:\\Anaconda3\\envs\\python_course\\Lib\\site-packages\\seaborn\\matrix.py:163\u001b[39m, in \u001b[36m_HeatMapper.__init__\u001b[39m\u001b[34m(self, data, vmin, vmax, cmap, center, robust, annot, fmt, annot_kws, cbar, cbar_kws, xticklabels, yticklabels, mask)\u001b[39m\n\u001b[32m    160\u001b[39m \u001b[38;5;28mself\u001b[39m.ylabel = ylabel \u001b[38;5;28;01mif\u001b[39;00m ylabel \u001b[38;5;129;01mis\u001b[39;00m \u001b[38;5;129;01mnot\u001b[39;00m \u001b[38;5;28;01mNone\u001b[39;00m \u001b[38;5;28;01melse\u001b[39;00m \u001b[33m\"\u001b[39m\u001b[33m\"\u001b[39m\n\u001b[32m    162\u001b[39m \u001b[38;5;66;03m# Determine good default values for the colormapping\u001b[39;00m\n\u001b[32m--> \u001b[39m\u001b[32m163\u001b[39m \u001b[38;5;28;43mself\u001b[39;49m\u001b[43m.\u001b[49m\u001b[43m_determine_cmap_params\u001b[49m\u001b[43m(\u001b[49m\u001b[43mplot_data\u001b[49m\u001b[43m,\u001b[49m\u001b[43m \u001b[49m\u001b[43mvmin\u001b[49m\u001b[43m,\u001b[49m\u001b[43m \u001b[49m\u001b[43mvmax\u001b[49m\u001b[43m,\u001b[49m\n\u001b[32m    164\u001b[39m \u001b[43m                            \u001b[49m\u001b[43mcmap\u001b[49m\u001b[43m,\u001b[49m\u001b[43m \u001b[49m\u001b[43mcenter\u001b[49m\u001b[43m,\u001b[49m\u001b[43m \u001b[49m\u001b[43mrobust\u001b[49m\u001b[43m)\u001b[49m\n\u001b[32m    166\u001b[39m \u001b[38;5;66;03m# Sort out the annotations\u001b[39;00m\n\u001b[32m    167\u001b[39m \u001b[38;5;28;01mif\u001b[39;00m annot \u001b[38;5;129;01mis\u001b[39;00m \u001b[38;5;28;01mNone\u001b[39;00m \u001b[38;5;129;01mor\u001b[39;00m annot \u001b[38;5;129;01mis\u001b[39;00m \u001b[38;5;28;01mFalse\u001b[39;00m:\n",
      "\u001b[36mFile \u001b[39m\u001b[32md:\\Anaconda3\\envs\\python_course\\Lib\\site-packages\\seaborn\\matrix.py:197\u001b[39m, in \u001b[36m_HeatMapper._determine_cmap_params\u001b[39m\u001b[34m(self, plot_data, vmin, vmax, cmap, center, robust)\u001b[39m\n\u001b[32m    194\u001b[39m \u001b[38;5;250m\u001b[39m\u001b[33;03m\"\"\"Use some heuristics to set good defaults for colorbar and range.\"\"\"\u001b[39;00m\n\u001b[32m    196\u001b[39m \u001b[38;5;66;03m# plot_data is a np.ma.array instance\u001b[39;00m\n\u001b[32m--> \u001b[39m\u001b[32m197\u001b[39m calc_data = \u001b[43mplot_data\u001b[49m\u001b[43m.\u001b[49m\u001b[43mastype\u001b[49m\u001b[43m(\u001b[49m\u001b[38;5;28;43mfloat\u001b[39;49m\u001b[43m)\u001b[49m.filled(np.nan)\n\u001b[32m    198\u001b[39m \u001b[38;5;28;01mif\u001b[39;00m vmin \u001b[38;5;129;01mis\u001b[39;00m \u001b[38;5;28;01mNone\u001b[39;00m:\n\u001b[32m    199\u001b[39m     \u001b[38;5;28;01mif\u001b[39;00m robust:\n",
      "\u001b[31mValueError\u001b[39m: could not convert string to float: 'DeepSeek-4'"
     ]
    }
   ],
   "source": []
  },
  {
   "cell_type": "code",
   "execution_count": 9,
   "metadata": {},
   "outputs": [
    {
     "data": {
      "text/html": [
       "<div>\n",
       "<style scoped>\n",
       "    .dataframe tbody tr th:only-of-type {\n",
       "        vertical-align: middle;\n",
       "    }\n",
       "\n",
       "    .dataframe tbody tr th {\n",
       "        vertical-align: top;\n",
       "    }\n",
       "\n",
       "    .dataframe thead th {\n",
       "        text-align: right;\n",
       "    }\n",
       "</style>\n",
       "<table border=\"1\" class=\"dataframe\">\n",
       "  <thead>\n",
       "    <tr style=\"text-align: right;\">\n",
       "      <th></th>\n",
       "      <th>Model</th>\n",
       "      <th>Provider</th>\n",
       "      <th>Context Window</th>\n",
       "      <th>Speed (tokens/sec)</th>\n",
       "      <th>Latency (sec)</th>\n",
       "      <th>Benchmark (MMLU)</th>\n",
       "      <th>Benchmark (Chatbot Arena)</th>\n",
       "      <th>Open-Source</th>\n",
       "      <th>Price / Million Tokens</th>\n",
       "      <th>Training Dataset Size</th>\n",
       "      <th>Compute Power</th>\n",
       "      <th>Energy Efficiency</th>\n",
       "      <th>Quality Rating</th>\n",
       "      <th>Speed Rating</th>\n",
       "      <th>Price Rating</th>\n",
       "    </tr>\n",
       "  </thead>\n",
       "  <tbody>\n",
       "    <tr>\n",
       "      <th>0</th>\n",
       "      <td>DeepSeek-4</td>\n",
       "      <td>Deepseek</td>\n",
       "      <td>128000</td>\n",
       "      <td>95</td>\n",
       "      <td>2.74</td>\n",
       "      <td>85</td>\n",
       "      <td>1143</td>\n",
       "      <td>True</td>\n",
       "      <td>18.81</td>\n",
       "      <td>760952565</td>\n",
       "      <td>13</td>\n",
       "      <td>0.50</td>\n",
       "      <td>2</td>\n",
       "      <td>2</td>\n",
       "      <td>3</td>\n",
       "    </tr>\n",
       "    <tr>\n",
       "      <th>1</th>\n",
       "      <td>Llama-8</td>\n",
       "      <td>Meta AI</td>\n",
       "      <td>300000</td>\n",
       "      <td>284</td>\n",
       "      <td>3.21</td>\n",
       "      <td>71</td>\n",
       "      <td>1390</td>\n",
       "      <td>True</td>\n",
       "      <td>3.98</td>\n",
       "      <td>22891342</td>\n",
       "      <td>22</td>\n",
       "      <td>2.07</td>\n",
       "      <td>1</td>\n",
       "      <td>3</td>\n",
       "      <td>3</td>\n",
       "    </tr>\n",
       "    <tr>\n",
       "      <th>2</th>\n",
       "      <td>Llama-5</td>\n",
       "      <td>Meta AI</td>\n",
       "      <td>300000</td>\n",
       "      <td>225</td>\n",
       "      <td>2.95</td>\n",
       "      <td>85</td>\n",
       "      <td>1406</td>\n",
       "      <td>False</td>\n",
       "      <td>1.02</td>\n",
       "      <td>827422145</td>\n",
       "      <td>21</td>\n",
       "      <td>0.95</td>\n",
       "      <td>2</td>\n",
       "      <td>3</td>\n",
       "      <td>2</td>\n",
       "    </tr>\n",
       "    <tr>\n",
       "      <th>3</th>\n",
       "      <td>DeepSeek-3</td>\n",
       "      <td>Deepseek</td>\n",
       "      <td>2000000</td>\n",
       "      <td>242</td>\n",
       "      <td>12.89</td>\n",
       "      <td>72</td>\n",
       "      <td>1264</td>\n",
       "      <td>True</td>\n",
       "      <td>27.63</td>\n",
       "      <td>694305632</td>\n",
       "      <td>86</td>\n",
       "      <td>3.51</td>\n",
       "      <td>1</td>\n",
       "      <td>3</td>\n",
       "      <td>3</td>\n",
       "    </tr>\n",
       "    <tr>\n",
       "      <th>4</th>\n",
       "      <td>DeepSeek-8</td>\n",
       "      <td>Deepseek</td>\n",
       "      <td>1000000</td>\n",
       "      <td>71</td>\n",
       "      <td>3.80</td>\n",
       "      <td>77</td>\n",
       "      <td>1381</td>\n",
       "      <td>True</td>\n",
       "      <td>18.52</td>\n",
       "      <td>378552278</td>\n",
       "      <td>92</td>\n",
       "      <td>1.80</td>\n",
       "      <td>2</td>\n",
       "      <td>2</td>\n",
       "      <td>3</td>\n",
       "    </tr>\n",
       "    <tr>\n",
       "      <th>...</th>\n",
       "      <td>...</td>\n",
       "      <td>...</td>\n",
       "      <td>...</td>\n",
       "      <td>...</td>\n",
       "      <td>...</td>\n",
       "      <td>...</td>\n",
       "      <td>...</td>\n",
       "      <td>...</td>\n",
       "      <td>...</td>\n",
       "      <td>...</td>\n",
       "      <td>...</td>\n",
       "      <td>...</td>\n",
       "      <td>...</td>\n",
       "      <td>...</td>\n",
       "      <td>...</td>\n",
       "    </tr>\n",
       "    <tr>\n",
       "      <th>195</th>\n",
       "      <td>Gemini-3</td>\n",
       "      <td>Google</td>\n",
       "      <td>2000000</td>\n",
       "      <td>62</td>\n",
       "      <td>7.04</td>\n",
       "      <td>64</td>\n",
       "      <td>1222</td>\n",
       "      <td>False</td>\n",
       "      <td>29.10</td>\n",
       "      <td>186555415</td>\n",
       "      <td>67</td>\n",
       "      <td>1.15</td>\n",
       "      <td>1</td>\n",
       "      <td>2</td>\n",
       "      <td>3</td>\n",
       "    </tr>\n",
       "    <tr>\n",
       "      <th>196</th>\n",
       "      <td>Gemini-9</td>\n",
       "      <td>Google</td>\n",
       "      <td>2000000</td>\n",
       "      <td>259</td>\n",
       "      <td>3.80</td>\n",
       "      <td>92</td>\n",
       "      <td>1467</td>\n",
       "      <td>True</td>\n",
       "      <td>2.86</td>\n",
       "      <td>113913164</td>\n",
       "      <td>80</td>\n",
       "      <td>2.58</td>\n",
       "      <td>3</td>\n",
       "      <td>3</td>\n",
       "      <td>3</td>\n",
       "    </tr>\n",
       "    <tr>\n",
       "      <th>197</th>\n",
       "      <td>Nova-7</td>\n",
       "      <td>AWS</td>\n",
       "      <td>256000</td>\n",
       "      <td>130</td>\n",
       "      <td>18.19</td>\n",
       "      <td>79</td>\n",
       "      <td>939</td>\n",
       "      <td>True</td>\n",
       "      <td>20.19</td>\n",
       "      <td>571980809</td>\n",
       "      <td>7</td>\n",
       "      <td>4.22</td>\n",
       "      <td>2</td>\n",
       "      <td>2</td>\n",
       "      <td>3</td>\n",
       "    </tr>\n",
       "    <tr>\n",
       "      <th>198</th>\n",
       "      <td>GPT-4</td>\n",
       "      <td>OpenAI</td>\n",
       "      <td>128000</td>\n",
       "      <td>268</td>\n",
       "      <td>11.75</td>\n",
       "      <td>78</td>\n",
       "      <td>939</td>\n",
       "      <td>True</td>\n",
       "      <td>13.34</td>\n",
       "      <td>482443470</td>\n",
       "      <td>52</td>\n",
       "      <td>3.69</td>\n",
       "      <td>2</td>\n",
       "      <td>3</td>\n",
       "      <td>3</td>\n",
       "    </tr>\n",
       "    <tr>\n",
       "      <th>199</th>\n",
       "      <td>Llama-4</td>\n",
       "      <td>Meta AI</td>\n",
       "      <td>1000000</td>\n",
       "      <td>170</td>\n",
       "      <td>8.14</td>\n",
       "      <td>94</td>\n",
       "      <td>1188</td>\n",
       "      <td>False</td>\n",
       "      <td>26.05</td>\n",
       "      <td>865120794</td>\n",
       "      <td>14</td>\n",
       "      <td>2.76</td>\n",
       "      <td>3</td>\n",
       "      <td>2</td>\n",
       "      <td>3</td>\n",
       "    </tr>\n",
       "  </tbody>\n",
       "</table>\n",
       "<p>200 rows × 15 columns</p>\n",
       "</div>"
      ],
      "text/plain": [
       "          Model  Provider  Context Window  Speed (tokens/sec)  Latency (sec)  \\\n",
       "0    DeepSeek-4  Deepseek          128000                  95           2.74   \n",
       "1       Llama-8   Meta AI          300000                 284           3.21   \n",
       "2       Llama-5   Meta AI          300000                 225           2.95   \n",
       "3    DeepSeek-3  Deepseek         2000000                 242          12.89   \n",
       "4    DeepSeek-8  Deepseek         1000000                  71           3.80   \n",
       "..          ...       ...             ...                 ...            ...   \n",
       "195    Gemini-3    Google         2000000                  62           7.04   \n",
       "196    Gemini-9    Google         2000000                 259           3.80   \n",
       "197      Nova-7       AWS          256000                 130          18.19   \n",
       "198       GPT-4    OpenAI          128000                 268          11.75   \n",
       "199     Llama-4   Meta AI         1000000                 170           8.14   \n",
       "\n",
       "     Benchmark (MMLU)  Benchmark (Chatbot Arena)  Open-Source  \\\n",
       "0                  85                       1143         True   \n",
       "1                  71                       1390         True   \n",
       "2                  85                       1406        False   \n",
       "3                  72                       1264         True   \n",
       "4                  77                       1381         True   \n",
       "..                ...                        ...          ...   \n",
       "195                64                       1222        False   \n",
       "196                92                       1467         True   \n",
       "197                79                        939         True   \n",
       "198                78                        939         True   \n",
       "199                94                       1188        False   \n",
       "\n",
       "     Price / Million Tokens  Training Dataset Size  Compute Power  \\\n",
       "0                     18.81              760952565             13   \n",
       "1                      3.98               22891342             22   \n",
       "2                      1.02              827422145             21   \n",
       "3                     27.63              694305632             86   \n",
       "4                     18.52              378552278             92   \n",
       "..                      ...                    ...            ...   \n",
       "195                   29.10              186555415             67   \n",
       "196                    2.86              113913164             80   \n",
       "197                   20.19              571980809              7   \n",
       "198                   13.34              482443470             52   \n",
       "199                   26.05              865120794             14   \n",
       "\n",
       "     Energy Efficiency  Quality Rating  Speed Rating  Price Rating  \n",
       "0                 0.50               2             2             3  \n",
       "1                 2.07               1             3             3  \n",
       "2                 0.95               2             3             2  \n",
       "3                 3.51               1             3             3  \n",
       "4                 1.80               2             2             3  \n",
       "..                 ...             ...           ...           ...  \n",
       "195               1.15               1             2             3  \n",
       "196               2.58               3             3             3  \n",
       "197               4.22               2             2             3  \n",
       "198               3.69               2             3             3  \n",
       "199               2.76               3             2             3  \n",
       "\n",
       "[200 rows x 15 columns]"
      ]
     },
     "execution_count": 9,
     "metadata": {},
     "output_type": "execute_result"
    }
   ],
   "source": [
    "df"
   ]
  },
  {
   "cell_type": "code",
   "execution_count": 11,
   "metadata": {},
   "outputs": [
    {
     "data": {
      "text/plain": [
       "Index(['Model', 'Provider', 'Context Window', 'Speed (tokens/sec)',\n",
       "       'Latency (sec)', 'Benchmark (MMLU)', 'Benchmark (Chatbot Arena)',\n",
       "       'Open-Source', 'Price / Million Tokens', 'Training Dataset Size',\n",
       "       'Compute Power', 'Energy Efficiency', 'Quality Rating', 'Speed Rating',\n",
       "       'Price Rating'],\n",
       "      dtype='object')"
      ]
     },
     "execution_count": 11,
     "metadata": {},
     "output_type": "execute_result"
    }
   ],
   "source": [
    "df.columns"
   ]
  },
  {
   "cell_type": "code",
   "execution_count": 13,
   "metadata": {},
   "outputs": [
    {
     "data": {
      "text/html": [
       "<div>\n",
       "<style scoped>\n",
       "    .dataframe tbody tr th:only-of-type {\n",
       "        vertical-align: middle;\n",
       "    }\n",
       "\n",
       "    .dataframe tbody tr th {\n",
       "        vertical-align: top;\n",
       "    }\n",
       "\n",
       "    .dataframe thead th {\n",
       "        text-align: right;\n",
       "    }\n",
       "</style>\n",
       "<table border=\"1\" class=\"dataframe\">\n",
       "  <thead>\n",
       "    <tr style=\"text-align: right;\">\n",
       "      <th></th>\n",
       "      <th>Quality Rating</th>\n",
       "      <th>Price Rating</th>\n",
       "    </tr>\n",
       "    <tr>\n",
       "      <th>Provider</th>\n",
       "      <th></th>\n",
       "      <th></th>\n",
       "    </tr>\n",
       "  </thead>\n",
       "  <tbody>\n",
       "    <tr>\n",
       "      <th>AWS</th>\n",
       "      <td>2.000000</td>\n",
       "      <td>2.814815</td>\n",
       "    </tr>\n",
       "    <tr>\n",
       "      <th>Anthropic</th>\n",
       "      <td>1.882353</td>\n",
       "      <td>3.000000</td>\n",
       "    </tr>\n",
       "    <tr>\n",
       "      <th>Cohere</th>\n",
       "      <td>1.911765</td>\n",
       "      <td>2.911765</td>\n",
       "    </tr>\n",
       "    <tr>\n",
       "      <th>Deepseek</th>\n",
       "      <td>1.954545</td>\n",
       "      <td>2.954545</td>\n",
       "    </tr>\n",
       "    <tr>\n",
       "      <th>Google</th>\n",
       "      <td>1.434783</td>\n",
       "      <td>2.956522</td>\n",
       "    </tr>\n",
       "    <tr>\n",
       "      <th>Meta AI</th>\n",
       "      <td>1.826087</td>\n",
       "      <td>2.869565</td>\n",
       "    </tr>\n",
       "    <tr>\n",
       "      <th>Mistral AI</th>\n",
       "      <td>2.000000</td>\n",
       "      <td>2.913043</td>\n",
       "    </tr>\n",
       "    <tr>\n",
       "      <th>OpenAI</th>\n",
       "      <td>2.096774</td>\n",
       "      <td>2.903226</td>\n",
       "    </tr>\n",
       "  </tbody>\n",
       "</table>\n",
       "</div>"
      ],
      "text/plain": [
       "            Quality Rating  Price Rating\n",
       "Provider                                \n",
       "AWS               2.000000      2.814815\n",
       "Anthropic         1.882353      3.000000\n",
       "Cohere            1.911765      2.911765\n",
       "Deepseek          1.954545      2.954545\n",
       "Google            1.434783      2.956522\n",
       "Meta AI           1.826087      2.869565\n",
       "Mistral AI        2.000000      2.913043\n",
       "OpenAI            2.096774      2.903226"
      ]
     },
     "execution_count": 13,
     "metadata": {},
     "output_type": "execute_result"
    }
   ],
   "source": [
    "df_quality = df.groupby('Provider')[['Quality Rating','Price Rating']].mean()\n",
    "df_quality"
   ]
  },
  {
   "cell_type": "code",
   "execution_count": 38,
   "metadata": {},
   "outputs": [
    {
     "data": {
      "text/plain": [
       "<Figure size 1000x600 with 0 Axes>"
      ]
     },
     "metadata": {},
     "output_type": "display_data"
    },
    {
     "data": {
      "image/png": "[encoded data removed]",
      "text/plain": [
       "<Figure size 640x480 with 1 Axes>"
      ]
     },
     "metadata": {},
     "output_type": "display_data"
    }
   ],
   "source": [
    "plt.figure(figsize=(10, 6))\n",
    "df_quality.plot(kind='barh')\n",
    "plt.title(\"Comparison of Quality and Price Ratings\")\n",
    "plt.legend(title='Rating Type', bbox_to_anchor=(1.05, 1), loc='upper left')\n",
    "plt.xlim(0,3.5)\n",
    "plt.show()\n"
   ]
  },
  {
   "cell_type": "code",
   "execution_count": 39,
   "metadata": {},
   "outputs": [
    {
     "data": {
      "text/plain": [
       "Index(['Model', 'Provider', 'Context Window', 'Speed (tokens/sec)',\n",
       "       'Latency (sec)', 'Benchmark (MMLU)', 'Benchmark (Chatbot Arena)',\n",
       "       'Open-Source', 'Price / Million Tokens', 'Training Dataset Size',\n",
       "       'Compute Power', 'Energy Efficiency', 'Quality Rating', 'Speed Rating',\n",
       "       'Price Rating'],\n",
       "      dtype='object')"
      ]
     },
     "execution_count": 39,
     "metadata": {},
     "output_type": "execute_result"
    }
   ],
   "source": [
    "df.columns"
   ]
  },
  {
   "cell_type": "code",
   "execution_count": 42,
   "metadata": {},
   "outputs": [
    {
     "data": {
      "text/html": [
       "<div>\n",
       "<style scoped>\n",
       "    .dataframe tbody tr th:only-of-type {\n",
       "        vertical-align: middle;\n",
       "    }\n",
       "\n",
       "    .dataframe tbody tr th {\n",
       "        vertical-align: top;\n",
       "    }\n",
       "\n",
       "    .dataframe thead th {\n",
       "        text-align: right;\n",
       "    }\n",
       "</style>\n",
       "<table border=\"1\" class=\"dataframe\">\n",
       "  <thead>\n",
       "    <tr style=\"text-align: right;\">\n",
       "      <th>Speed Rating</th>\n",
       "      <th>1</th>\n",
       "      <th>2</th>\n",
       "      <th>3</th>\n",
       "    </tr>\n",
       "    <tr>\n",
       "      <th>Quality Rating</th>\n",
       "      <th></th>\n",
       "      <th></th>\n",
       "      <th></th>\n",
       "    </tr>\n",
       "  </thead>\n",
       "  <tbody>\n",
       "    <tr>\n",
       "      <th>1</th>\n",
       "      <td>7</td>\n",
       "      <td>33</td>\n",
       "      <td>35</td>\n",
       "    </tr>\n",
       "    <tr>\n",
       "      <th>2</th>\n",
       "      <td>6</td>\n",
       "      <td>43</td>\n",
       "      <td>21</td>\n",
       "    </tr>\n",
       "    <tr>\n",
       "      <th>3</th>\n",
       "      <td>6</td>\n",
       "      <td>31</td>\n",
       "      <td>18</td>\n",
       "    </tr>\n",
       "  </tbody>\n",
       "</table>\n",
       "</div>"
      ],
      "text/plain": [
       "Speed Rating    1   2   3\n",
       "Quality Rating           \n",
       "1               7  33  35\n",
       "2               6  43  21\n",
       "3               6  31  18"
      ]
     },
     "execution_count": 42,
     "metadata": {},
     "output_type": "execute_result"
    }
   ],
   "source": [
    "df.pivot_table(index='Quality Rating', columns='Speed Rating', aggfunc='size',fill_value=0)"
   ]
  },
  {
   "cell_type": "code",
   "execution_count": null,
   "metadata": {},
   "outputs": [],
   "source": []
  }
 ],
 "metadata": {
  "kernelspec": {
   "display_name": "python_course",
   "language": "python",
   "name": "python3"
  },
  "language_info": {
   "codemirror_mode": {
    "name": "ipython",
    "version": 3
   },
   "file_extension": ".py",
   "mimetype": "text/x-python",
   "name": "python",
   "nbconvert_exporter": "python",
   "pygments_lexer": "ipython3",
   "version": "3.12.3"
  }
 },
 "nbformat": 4,
 "nbformat_minor": 2
}
