{
 "cells": [
  {
   "cell_type": "code",
   "execution_count": 103,
   "metadata": {},
   "outputs": [],
   "source": [
    "import pandas as pd\n",
    "import matplotlib.pyplot as plt\n",
    "import numpy as np\n",
    "import random\n"
   ]
  },
  {
   "cell_type": "code",
   "execution_count": 104,
   "metadata": {},
   "outputs": [],
   "source": [
    "df = pd.read_csv(r'D:\\data analyst\\datacleaning\\restaurant\\restaurant_sales_data.csv')\n",
    "\n"
   ]
  },
  {
   "cell_type": "code",
   "execution_count": 105,
   "metadata": {},
   "outputs": [],
   "source": [
    "df['Order Date'] = pd.to_datetime(df['Order Date'])\n"
   ]
  },
  {
   "cell_type": "code",
   "execution_count": 106,
   "metadata": {},
   "outputs": [
    {
     "data": {
      "text/html": [
       "<div>\n",
       "<style scoped>\n",
       "    .dataframe tbody tr th:only-of-type {\n",
       "        vertical-align: middle;\n",
       "    }\n",
       "\n",
       "    .dataframe tbody tr th {\n",
       "        vertical-align: top;\n",
       "    }\n",
       "\n",
       "    .dataframe thead th {\n",
       "        text-align: right;\n",
       "    }\n",
       "</style>\n",
       "<table border=\"1\" class=\"dataframe\">\n",
       "  <thead>\n",
       "    <tr style=\"text-align: right;\">\n",
       "      <th></th>\n",
       "      <th>Order ID</th>\n",
       "      <th>Customer ID</th>\n",
       "      <th>Category</th>\n",
       "      <th>Item</th>\n",
       "      <th>Price</th>\n",
       "      <th>Quantity</th>\n",
       "      <th>Order Total</th>\n",
       "      <th>Order Date</th>\n",
       "      <th>Payment Method</th>\n",
       "    </tr>\n",
       "  </thead>\n",
       "  <tbody>\n",
       "    <tr>\n",
       "      <th>2312</th>\n",
       "      <td>ORD_327500</td>\n",
       "      <td>CUST_081</td>\n",
       "      <td>Main Dishes</td>\n",
       "      <td>Salmon</td>\n",
       "      <td>18.0</td>\n",
       "      <td>1.0</td>\n",
       "      <td>18.0</td>\n",
       "      <td>2023-03-25</td>\n",
       "      <td>Credit Card</td>\n",
       "    </tr>\n",
       "    <tr>\n",
       "      <th>13130</th>\n",
       "      <td>ORD_843783</td>\n",
       "      <td>CUST_090</td>\n",
       "      <td>Side Dishes</td>\n",
       "      <td>Grilled Vegetables</td>\n",
       "      <td>5.0</td>\n",
       "      <td>2.0</td>\n",
       "      <td>10.0</td>\n",
       "      <td>2022-08-02</td>\n",
       "      <td>Cash</td>\n",
       "    </tr>\n",
       "    <tr>\n",
       "      <th>14555</th>\n",
       "      <td>ORD_169008</td>\n",
       "      <td>CUST_013</td>\n",
       "      <td>Desserts</td>\n",
       "      <td>Fruit Salad</td>\n",
       "      <td>4.0</td>\n",
       "      <td>4.0</td>\n",
       "      <td>16.0</td>\n",
       "      <td>2022-05-21</td>\n",
       "      <td>Digital Wallet</td>\n",
       "    </tr>\n",
       "    <tr>\n",
       "      <th>9398</th>\n",
       "      <td>ORD_365955</td>\n",
       "      <td>CUST_019</td>\n",
       "      <td>Desserts</td>\n",
       "      <td>Cheesecake</td>\n",
       "      <td>7.0</td>\n",
       "      <td>5.0</td>\n",
       "      <td>35.0</td>\n",
       "      <td>2022-05-25</td>\n",
       "      <td>Cash</td>\n",
       "    </tr>\n",
       "    <tr>\n",
       "      <th>5305</th>\n",
       "      <td>ORD_780533</td>\n",
       "      <td>CUST_042</td>\n",
       "      <td>Side Dishes</td>\n",
       "      <td>Grilled Vegetables</td>\n",
       "      <td>5.0</td>\n",
       "      <td>4.0</td>\n",
       "      <td>20.0</td>\n",
       "      <td>2023-09-27</td>\n",
       "      <td>Credit Card</td>\n",
       "    </tr>\n",
       "  </tbody>\n",
       "</table>\n",
       "</div>"
      ],
      "text/plain": [
       "         Order ID Customer ID     Category                Item  Price  \\\n",
       "2312   ORD_327500    CUST_081  Main Dishes              Salmon   18.0   \n",
       "13130  ORD_843783    CUST_090  Side Dishes  Grilled Vegetables    5.0   \n",
       "14555  ORD_169008    CUST_013     Desserts         Fruit Salad    4.0   \n",
       "9398   ORD_365955    CUST_019     Desserts          Cheesecake    7.0   \n",
       "5305   ORD_780533    CUST_042  Side Dishes  Grilled Vegetables    5.0   \n",
       "\n",
       "       Quantity  Order Total Order Date  Payment Method  \n",
       "2312        1.0         18.0 2023-03-25     Credit Card  \n",
       "13130       2.0         10.0 2022-08-02            Cash  \n",
       "14555       4.0         16.0 2022-05-21  Digital Wallet  \n",
       "9398        5.0         35.0 2022-05-25            Cash  \n",
       "5305        4.0         20.0 2023-09-27     Credit Card  "
      ]
     },
     "execution_count": 106,
     "metadata": {},
     "output_type": "execute_result"
    }
   ],
   "source": [
    "df.sample(5)"
   ]
  },
  {
   "cell_type": "code",
   "execution_count": 107,
   "metadata": {},
   "outputs": [
    {
     "data": {
      "text/plain": [
       "Order ID             0\n",
       "Customer ID          0\n",
       "Category             0\n",
       "Item              1758\n",
       "Price              876\n",
       "Quantity           430\n",
       "Order Total        430\n",
       "Order Date           0\n",
       "Payment Method    1082\n",
       "dtype: int64"
      ]
     },
     "execution_count": 107,
     "metadata": {},
     "output_type": "execute_result"
    }
   ],
   "source": [
    "df.isna().sum()"
   ]
  },
  {
   "cell_type": "code",
   "execution_count": 108,
   "metadata": {},
   "outputs": [
    {
     "data": {
      "text/plain": [
       "np.int64(1758)"
      ]
     },
     "execution_count": 108,
     "metadata": {},
     "output_type": "execute_result"
    }
   ],
   "source": [
    "df['Item'].isna().sum()"
   ]
  },
  {
   "cell_type": "code",
   "execution_count": 109,
   "metadata": {},
   "outputs": [
    {
     "data": {
      "text/plain": [
       "Price\n",
       "5.0     3221\n",
       "4.0     2673\n",
       "3.0     2180\n",
       "6.0     1337\n",
       "2.5     1144\n",
       "12.0    1059\n",
       "1.0     1022\n",
       "7.0      998\n",
       "15.0     866\n",
       "20.0     597\n",
       "8.0      466\n",
       "18.0     445\n",
       "14.0     403\n",
       "10.0     247\n",
       "Name: count, dtype: int64"
      ]
     },
     "execution_count": 109,
     "metadata": {},
     "output_type": "execute_result"
    }
   ],
   "source": [
    "df['Price'].value_counts()"
   ]
  },
  {
   "cell_type": "markdown",
   "metadata": {},
   "source": [
    "Clean NaN (5.0 Items)"
   ]
  },
  {
   "cell_type": "code",
   "execution_count": 110,
   "metadata": {},
   "outputs": [],
   "source": [
    "df.loc[df['Price'] == 5.0, 'Item'] = df.loc[df['Price'] == 5.0, 'Item'].apply(\n",
    "    lambda x: random.choice(['Grilled Vegetables', \n",
    "                                              'Onion Rings',\n",
    "                                              'Cheese Fries',\n",
    "                                              'Ice Cream',\n",
    "                                              'Sweet Potato Fries']) \n",
    "                                              if pd.isna(x) else x)"
   ]
  },
  {
   "cell_type": "code",
   "execution_count": 111,
   "metadata": {},
   "outputs": [
    {
     "data": {
      "text/plain": [
       "Order ID            0\n",
       "Customer ID         0\n",
       "Category            0\n",
       "Item                0\n",
       "Price               0\n",
       "Quantity            0\n",
       "Order Total         0\n",
       "Order Date          0\n",
       "Payment Method    140\n",
       "dtype: int64"
      ]
     },
     "execution_count": 111,
     "metadata": {},
     "output_type": "execute_result"
    }
   ],
   "source": [
    "df[df['Price'] == 5.0].isna().sum()"
   ]
  },
  {
   "cell_type": "markdown",
   "metadata": {},
   "source": [
    "Clean NaN (4.0 Items)"
   ]
  },
  {
   "cell_type": "code",
   "execution_count": 112,
   "metadata": {},
   "outputs": [],
   "source": [
    "df.loc[df['Price'] == 4.0, 'Item'] = df.loc[df['Price'] == 4.0, 'Item'].apply(\n",
    "    lambda x: random.choice(['Garlic Bread', \n",
    "                             'French Fries',\n",
    "                             'Fruit Salad',\n",
    "                             'Mashed Potatoes',\n",
    "                             ]) \n",
    "                             if pd.isna(x) else x)"
   ]
  },
  {
   "cell_type": "code",
   "execution_count": 113,
   "metadata": {},
   "outputs": [
    {
     "data": {
      "text/plain": [
       "Order ID            0\n",
       "Customer ID         0\n",
       "Category            0\n",
       "Item                0\n",
       "Price               0\n",
       "Quantity            0\n",
       "Order Total         0\n",
       "Order Date          0\n",
       "Payment Method    119\n",
       "dtype: int64"
      ]
     },
     "execution_count": 113,
     "metadata": {},
     "output_type": "execute_result"
    }
   ],
   "source": [
    "df[df['Price'] == 4.0].isna().sum()"
   ]
  },
  {
   "cell_type": "markdown",
   "metadata": {},
   "source": [
    "Clean NaN (3.0 Items)"
   ]
  },
  {
   "cell_type": "code",
   "execution_count": 114,
   "metadata": {},
   "outputs": [],
   "source": [
    "df.loc[df['Price'] == 3.0, 'Item'] = df.loc[df['Price'] == 3.0, 'Item'].apply(\n",
    "    lambda x: random.choice(['Orange Juice', \n",
    "                             'Side Salad',\n",
    "                             'Lemonade',\n",
    "                             ]) \n",
    "                             if pd.isna(x) else x)"
   ]
  },
  {
   "cell_type": "code",
   "execution_count": 115,
   "metadata": {},
   "outputs": [
    {
     "data": {
      "text/plain": [
       "Order ID            0\n",
       "Customer ID         0\n",
       "Category            0\n",
       "Item                0\n",
       "Price               0\n",
       "Quantity            0\n",
       "Order Total         0\n",
       "Order Date          0\n",
       "Payment Method    120\n",
       "dtype: int64"
      ]
     },
     "execution_count": 115,
     "metadata": {},
     "output_type": "execute_result"
    }
   ],
   "source": [
    "df[df['Price'] == 3.0].isna().sum()"
   ]
  },
  {
   "cell_type": "markdown",
   "metadata": {},
   "source": [
    "Clean NaN(6.0 Item)"
   ]
  },
  {
   "cell_type": "code",
   "execution_count": 116,
   "metadata": {},
   "outputs": [],
   "source": [
    "df.loc[df['Price'] == 6.0, 'Item'] = df.loc[df['Price'] == 6.0, 'Item'].apply(\n",
    "    lambda x: random.choice(['Chocolate Cake', \n",
    "                             'Brownie',\n",
    "                             ]) \n",
    "                             if pd.isna(x) else x)"
   ]
  },
  {
   "cell_type": "code",
   "execution_count": 117,
   "metadata": {},
   "outputs": [
    {
     "data": {
      "text/plain": [
       "Order ID           0\n",
       "Customer ID        0\n",
       "Category           0\n",
       "Item               0\n",
       "Price              0\n",
       "Quantity           0\n",
       "Order Total        0\n",
       "Order Date         0\n",
       "Payment Method    67\n",
       "dtype: int64"
      ]
     },
     "execution_count": 117,
     "metadata": {},
     "output_type": "execute_result"
    }
   ],
   "source": [
    "df[df['Price'] == 6.0].isna().sum()"
   ]
  },
  {
   "cell_type": "markdown",
   "metadata": {},
   "source": [
    "Clean NaN( 2.5 Item)"
   ]
  },
  {
   "cell_type": "code",
   "execution_count": 118,
   "metadata": {},
   "outputs": [],
   "source": [
    "df.loc[df['Price'] == 2.5, 'Item'] = df.loc[df['Price'] == 2.5, 'Item'].apply(\n",
    "    lambda x: random.choice(['Coca Cola', \n",
    "                             'Iced Tea',\n",
    "                             ]) \n",
    "                             if pd.isna(x) else x)"
   ]
  },
  {
   "cell_type": "code",
   "execution_count": 119,
   "metadata": {},
   "outputs": [
    {
     "data": {
      "text/plain": [
       "Order ID           0\n",
       "Customer ID        0\n",
       "Category           0\n",
       "Item               0\n",
       "Price              0\n",
       "Quantity           0\n",
       "Order Total        0\n",
       "Order Date         0\n",
       "Payment Method    51\n",
       "dtype: int64"
      ]
     },
     "execution_count": 119,
     "metadata": {},
     "output_type": "execute_result"
    }
   ],
   "source": [
    "df[df['Price'] == 2.5].isna().sum()"
   ]
  },
  {
   "cell_type": "markdown",
   "metadata": {},
   "source": [
    "Clean NaN(12.0 Item)"
   ]
  },
  {
   "cell_type": "code",
   "execution_count": 120,
   "metadata": {},
   "outputs": [],
   "source": [
    "df.loc[df['Price'] == 12.0, 'Item'] = df.loc[df['Price'] == 12.0, 'Item'].apply(\n",
    "    lambda x: random.choice(['Pasta Alfredo', \n",
    "                             \n",
    "                             ]) \n",
    "                             if pd.isna(x) else x)"
   ]
  },
  {
   "cell_type": "code",
   "execution_count": 121,
   "metadata": {},
   "outputs": [
    {
     "data": {
      "text/plain": [
       "Order ID           0\n",
       "Customer ID        0\n",
       "Category           0\n",
       "Item               0\n",
       "Price              0\n",
       "Quantity           0\n",
       "Order Total        0\n",
       "Order Date         0\n",
       "Payment Method    61\n",
       "dtype: int64"
      ]
     },
     "execution_count": 121,
     "metadata": {},
     "output_type": "execute_result"
    }
   ],
   "source": [
    "df[df['Price'] == 12.0].isna().sum()"
   ]
  },
  {
   "cell_type": "markdown",
   "metadata": {},
   "source": [
    "Clean NaN(1.0)"
   ]
  },
  {
   "cell_type": "code",
   "execution_count": 122,
   "metadata": {},
   "outputs": [],
   "source": [
    "df.loc[df['Price'] == 1.0, 'Item'] = df.loc[df['Price'] == 1.0, 'Item'].apply(\n",
    "    lambda x: random.choice(['Water', \n",
    "                             \n",
    "                             ]) \n",
    "                             if pd.isna(x) else x)"
   ]
  },
  {
   "cell_type": "code",
   "execution_count": 123,
   "metadata": {},
   "outputs": [
    {
     "data": {
      "text/plain": [
       "Order ID           0\n",
       "Customer ID        0\n",
       "Category           0\n",
       "Item               0\n",
       "Price              0\n",
       "Quantity           0\n",
       "Order Total        0\n",
       "Order Date         0\n",
       "Payment Method    53\n",
       "dtype: int64"
      ]
     },
     "execution_count": 123,
     "metadata": {},
     "output_type": "execute_result"
    }
   ],
   "source": [
    "df[df['Price'] == 1.0].isna().sum()"
   ]
  },
  {
   "cell_type": "markdown",
   "metadata": {},
   "source": [
    "Clean NaN(7.0)"
   ]
  },
  {
   "cell_type": "code",
   "execution_count": 124,
   "metadata": {},
   "outputs": [],
   "source": [
    "df.loc[df['Price'] == 7.0, 'Item'] = df.loc[df['Price'] == 7.0, 'Item'].apply(\n",
    "    lambda x: random.choice(['Cheesecake', \n",
    "                             'Beef Chili',\n",
    "                             ]) \n",
    "                             if pd.isna(x) else x)"
   ]
  },
  {
   "cell_type": "code",
   "execution_count": 125,
   "metadata": {},
   "outputs": [
    {
     "data": {
      "text/plain": [
       "Order ID           0\n",
       "Customer ID        0\n",
       "Category           0\n",
       "Item               0\n",
       "Price              0\n",
       "Quantity           0\n",
       "Order Total        0\n",
       "Order Date         0\n",
       "Payment Method    49\n",
       "dtype: int64"
      ]
     },
     "execution_count": 125,
     "metadata": {},
     "output_type": "execute_result"
    }
   ],
   "source": [
    "df[df['Price'] == 7.0].isna().sum()"
   ]
  },
  {
   "cell_type": "markdown",
   "metadata": {},
   "source": [
    "Clean NaN(15.0 Item)"
   ]
  },
  {
   "cell_type": "code",
   "execution_count": 126,
   "metadata": {},
   "outputs": [],
   "source": [
    "df.loc[df['Price'] == 15.0, 'Item'] = df.loc[df['Price'] == 15.0, 'Item'].apply(\n",
    "    lambda x: random.choice(['Grilled Chicken', \n",
    "                             \n",
    "                             ]) \n",
    "                             if pd.isna(x) else x)"
   ]
  },
  {
   "cell_type": "code",
   "execution_count": 127,
   "metadata": {},
   "outputs": [
    {
     "data": {
      "text/plain": [
       "Order ID           0\n",
       "Customer ID        0\n",
       "Category           0\n",
       "Item               0\n",
       "Price              0\n",
       "Quantity           0\n",
       "Order Total        0\n",
       "Order Date         0\n",
       "Payment Method    39\n",
       "dtype: int64"
      ]
     },
     "execution_count": 127,
     "metadata": {},
     "output_type": "execute_result"
    }
   ],
   "source": [
    "df[df['Price'] == 15.0].isna().sum()"
   ]
  },
  {
   "cell_type": "markdown",
   "metadata": {},
   "source": [
    "Clean NaN(20.0 Item)"
   ]
  },
  {
   "cell_type": "code",
   "execution_count": 128,
   "metadata": {},
   "outputs": [],
   "source": [
    "df.loc[df['Price'] == 20.0, 'Item'] = df.loc[df['Price'] == 20.0, 'Item'].apply(\n",
    "    lambda x: random.choice(['Steak', \n",
    "                             \n",
    "                             ]) \n",
    "                             if pd.isna(x) else x)"
   ]
  },
  {
   "cell_type": "code",
   "execution_count": 129,
   "metadata": {},
   "outputs": [
    {
     "data": {
      "text/plain": [
       "Order ID           0\n",
       "Customer ID        0\n",
       "Category           0\n",
       "Item               0\n",
       "Price              0\n",
       "Quantity           0\n",
       "Order Total        0\n",
       "Order Date         0\n",
       "Payment Method    22\n",
       "dtype: int64"
      ]
     },
     "execution_count": 129,
     "metadata": {},
     "output_type": "execute_result"
    }
   ],
   "source": [
    "df[df['Price'] == 20.0].isna().sum()"
   ]
  },
  {
   "cell_type": "markdown",
   "metadata": {},
   "source": [
    "Clean NaN(8.0 Item)"
   ]
  },
  {
   "cell_type": "code",
   "execution_count": 130,
   "metadata": {},
   "outputs": [],
   "source": [
    "df.loc[df['Price'] == 8.0, 'Item'] = df.loc[df['Price'] == 8.0, 'Item'].apply(\n",
    "    lambda x: random.choice(['Chicken Melt', \n",
    "                             \n",
    "                             ]) \n",
    "                             if pd.isna(x) else x)"
   ]
  },
  {
   "cell_type": "code",
   "execution_count": 131,
   "metadata": {},
   "outputs": [
    {
     "data": {
      "text/plain": [
       "Order ID           0\n",
       "Customer ID        0\n",
       "Category           0\n",
       "Item               0\n",
       "Price              0\n",
       "Quantity           0\n",
       "Order Total        0\n",
       "Order Date         0\n",
       "Payment Method    21\n",
       "dtype: int64"
      ]
     },
     "execution_count": 131,
     "metadata": {},
     "output_type": "execute_result"
    }
   ],
   "source": [
    "df[df['Price'] == 8.0].isna().sum()"
   ]
  },
  {
   "cell_type": "markdown",
   "metadata": {},
   "source": [
    "Clean NaN(18.0)"
   ]
  },
  {
   "cell_type": "code",
   "execution_count": 132,
   "metadata": {},
   "outputs": [],
   "source": [
    "df.loc[df['Price'] == 18.0, 'Item'] = df.loc[df['Price'] == 18.0, 'Item'].apply(\n",
    "    lambda x: random.choice(['Salmon', \n",
    "                             \n",
    "                             ]) \n",
    "                             if pd.isna(x) else x)"
   ]
  },
  {
   "cell_type": "code",
   "execution_count": 133,
   "metadata": {},
   "outputs": [
    {
     "data": {
      "text/plain": [
       "Order ID           0\n",
       "Customer ID        0\n",
       "Category           0\n",
       "Item               0\n",
       "Price              0\n",
       "Quantity           0\n",
       "Order Total        0\n",
       "Order Date         0\n",
       "Payment Method    31\n",
       "dtype: int64"
      ]
     },
     "execution_count": 133,
     "metadata": {},
     "output_type": "execute_result"
    }
   ],
   "source": [
    "df[df['Price'] == 18.0].isna().sum()"
   ]
  },
  {
   "cell_type": "markdown",
   "metadata": {},
   "source": [
    "Clean NaN( 14.0 )"
   ]
  },
  {
   "cell_type": "code",
   "execution_count": 134,
   "metadata": {},
   "outputs": [],
   "source": [
    "df.loc[df['Price'] == 14.0, 'Item'] = df.loc[df['Price'] == 14.0, 'Item'].apply(\n",
    "    lambda x: random.choice(['Vegetarian Platter', \n",
    "                             \n",
    "                             ]) \n",
    "                             if pd.isna(x) else x)"
   ]
  },
  {
   "cell_type": "code",
   "execution_count": 135,
   "metadata": {},
   "outputs": [
    {
     "data": {
      "text/plain": [
       "Order ID           0\n",
       "Customer ID        0\n",
       "Category           0\n",
       "Item               0\n",
       "Price              0\n",
       "Quantity           0\n",
       "Order Total        0\n",
       "Order Date         0\n",
       "Payment Method    20\n",
       "dtype: int64"
      ]
     },
     "execution_count": 135,
     "metadata": {},
     "output_type": "execute_result"
    }
   ],
   "source": [
    "df[df['Price'] == 14.0].isna().sum()"
   ]
  },
  {
   "cell_type": "markdown",
   "metadata": {},
   "source": [
    "Clean NaN(10.0)"
   ]
  },
  {
   "cell_type": "code",
   "execution_count": 136,
   "metadata": {},
   "outputs": [],
   "source": [
    "df.loc[df['Price'] == 10.0, 'Item'] = df.loc[df['Price'] == 10.0, 'Item'].apply(\n",
    "    lambda x: random.choice(['Nachos Grande', \n",
    "                             \n",
    "                             ]) \n",
    "                             if pd.isna(x) else x)"
   ]
  },
  {
   "cell_type": "code",
   "execution_count": 137,
   "metadata": {},
   "outputs": [
    {
     "data": {
      "text/plain": [
       "Order ID           0\n",
       "Customer ID        0\n",
       "Category           0\n",
       "Item               0\n",
       "Price              0\n",
       "Quantity           0\n",
       "Order Total        0\n",
       "Order Date         0\n",
       "Payment Method    14\n",
       "dtype: int64"
      ]
     },
     "execution_count": 137,
     "metadata": {},
     "output_type": "execute_result"
    }
   ],
   "source": [
    "df[df['Price'] == 10.0].isna().sum()"
   ]
  },
  {
   "cell_type": "code",
   "execution_count": 138,
   "metadata": {},
   "outputs": [],
   "source": [
    "df = df.dropna(subset=['Item','Price','Order Total'])"
   ]
  },
  {
   "cell_type": "markdown",
   "metadata": {},
   "source": [
    "Clean Payment Method"
   ]
  },
  {
   "cell_type": "code",
   "execution_count": 139,
   "metadata": {},
   "outputs": [],
   "source": [
    "df.loc[:, 'Payment Method'] = df['Payment Method'].fillna(random.choice(['Digital Wallet', 'Cash', 'Credit Card']))\n"
   ]
  },
  {
   "cell_type": "markdown",
   "metadata": {},
   "source": [
    "Data is clean"
   ]
  },
  {
   "cell_type": "code",
   "execution_count": 140,
   "metadata": {},
   "outputs": [
    {
     "data": {
      "text/plain": [
       "Order ID          0\n",
       "Customer ID       0\n",
       "Category          0\n",
       "Item              0\n",
       "Price             0\n",
       "Quantity          0\n",
       "Order Total       0\n",
       "Order Date        0\n",
       "Payment Method    0\n",
       "dtype: int64"
      ]
     },
     "execution_count": 140,
     "metadata": {},
     "output_type": "execute_result"
    }
   ],
   "source": [
    "df.isna().sum()"
   ]
  },
  {
   "cell_type": "markdown",
   "metadata": {},
   "source": [
    "Total spending by customers"
   ]
  },
  {
   "cell_type": "code",
   "execution_count": 141,
   "metadata": {},
   "outputs": [
    {
     "data": {
      "image/png": "[encoded data removed]",
      "text/plain": [
       "<Figure size 1000x500 with 1 Axes>"
      ]
     },
     "metadata": {},
     "output_type": "display_data"
    }
   ],
   "source": [
    "total_cust_spending = df.groupby(['Customer ID'])['Order Total'].sum().sort_values(ascending=False)\n",
    "\n",
    "total_cust_spending.head(20).plot(kind='bar', figsize=(10, 5))\n",
    "plt.xticks(rotation=45, ha='right')\n",
    "plt.xlabel(\"Customer ID\")\n",
    "plt.ylabel(\"Total Spending\")\n",
    "plt.title(\"Top 20 Customers by Total Spending\")\n",
    "plt.show()"
   ]
  },
  {
   "cell_type": "code",
   "execution_count": 142,
   "metadata": {},
   "outputs": [
    {
     "data": {
      "text/html": [
       "<div>\n",
       "<style scoped>\n",
       "    .dataframe tbody tr th:only-of-type {\n",
       "        vertical-align: middle;\n",
       "    }\n",
       "\n",
       "    .dataframe tbody tr th {\n",
       "        vertical-align: top;\n",
       "    }\n",
       "\n",
       "    .dataframe thead th {\n",
       "        text-align: right;\n",
       "    }\n",
       "</style>\n",
       "<table border=\"1\" class=\"dataframe\">\n",
       "  <thead>\n",
       "    <tr style=\"text-align: right;\">\n",
       "      <th></th>\n",
       "      <th>Order ID</th>\n",
       "      <th>Customer ID</th>\n",
       "      <th>Category</th>\n",
       "      <th>Item</th>\n",
       "      <th>Price</th>\n",
       "      <th>Quantity</th>\n",
       "      <th>Order Total</th>\n",
       "      <th>Order Date</th>\n",
       "      <th>Payment Method</th>\n",
       "    </tr>\n",
       "  </thead>\n",
       "  <tbody>\n",
       "    <tr>\n",
       "      <th>0</th>\n",
       "      <td>ORD_705844</td>\n",
       "      <td>CUST_092</td>\n",
       "      <td>Side Dishes</td>\n",
       "      <td>Side Salad</td>\n",
       "      <td>3.0</td>\n",
       "      <td>1.0</td>\n",
       "      <td>3.0</td>\n",
       "      <td>2023-12-21</td>\n",
       "      <td>Credit Card</td>\n",
       "    </tr>\n",
       "    <tr>\n",
       "      <th>1</th>\n",
       "      <td>ORD_338528</td>\n",
       "      <td>CUST_021</td>\n",
       "      <td>Side Dishes</td>\n",
       "      <td>Mashed Potatoes</td>\n",
       "      <td>4.0</td>\n",
       "      <td>3.0</td>\n",
       "      <td>12.0</td>\n",
       "      <td>2023-05-19</td>\n",
       "      <td>Digital Wallet</td>\n",
       "    </tr>\n",
       "    <tr>\n",
       "      <th>2</th>\n",
       "      <td>ORD_443849</td>\n",
       "      <td>CUST_029</td>\n",
       "      <td>Main Dishes</td>\n",
       "      <td>Grilled Chicken</td>\n",
       "      <td>15.0</td>\n",
       "      <td>4.0</td>\n",
       "      <td>60.0</td>\n",
       "      <td>2023-09-27</td>\n",
       "      <td>Credit Card</td>\n",
       "    </tr>\n",
       "    <tr>\n",
       "      <th>4</th>\n",
       "      <td>ORD_648269</td>\n",
       "      <td>CUST_031</td>\n",
       "      <td>Main Dishes</td>\n",
       "      <td>Pasta Alfredo</td>\n",
       "      <td>12.0</td>\n",
       "      <td>4.0</td>\n",
       "      <td>48.0</td>\n",
       "      <td>2022-05-15</td>\n",
       "      <td>Cash</td>\n",
       "    </tr>\n",
       "    <tr>\n",
       "      <th>5</th>\n",
       "      <td>ORD_381680</td>\n",
       "      <td>CUST_031</td>\n",
       "      <td>Main Dishes</td>\n",
       "      <td>Salmon</td>\n",
       "      <td>18.0</td>\n",
       "      <td>5.0</td>\n",
       "      <td>90.0</td>\n",
       "      <td>2022-07-20</td>\n",
       "      <td>Digital Wallet</td>\n",
       "    </tr>\n",
       "    <tr>\n",
       "      <th>...</th>\n",
       "      <td>...</td>\n",
       "      <td>...</td>\n",
       "      <td>...</td>\n",
       "      <td>...</td>\n",
       "      <td>...</td>\n",
       "      <td>...</td>\n",
       "      <td>...</td>\n",
       "      <td>...</td>\n",
       "      <td>...</td>\n",
       "    </tr>\n",
       "    <tr>\n",
       "      <th>17528</th>\n",
       "      <td>ORD_721774</td>\n",
       "      <td>CUST_006</td>\n",
       "      <td>Side Dishes</td>\n",
       "      <td>Mashed Potatoes</td>\n",
       "      <td>4.0</td>\n",
       "      <td>5.0</td>\n",
       "      <td>20.0</td>\n",
       "      <td>2022-04-22</td>\n",
       "      <td>Digital Wallet</td>\n",
       "    </tr>\n",
       "    <tr>\n",
       "      <th>17530</th>\n",
       "      <td>ORD_974128</td>\n",
       "      <td>CUST_069</td>\n",
       "      <td>Desserts</td>\n",
       "      <td>Ice Cream</td>\n",
       "      <td>5.0</td>\n",
       "      <td>3.0</td>\n",
       "      <td>15.0</td>\n",
       "      <td>2023-12-18</td>\n",
       "      <td>Cash</td>\n",
       "    </tr>\n",
       "    <tr>\n",
       "      <th>17531</th>\n",
       "      <td>ORD_108324</td>\n",
       "      <td>CUST_050</td>\n",
       "      <td>Desserts</td>\n",
       "      <td>Ice Cream</td>\n",
       "      <td>5.0</td>\n",
       "      <td>4.0</td>\n",
       "      <td>20.0</td>\n",
       "      <td>2022-05-20</td>\n",
       "      <td>Digital Wallet</td>\n",
       "    </tr>\n",
       "    <tr>\n",
       "      <th>17532</th>\n",
       "      <td>ORD_612647</td>\n",
       "      <td>CUST_073</td>\n",
       "      <td>Side Dishes</td>\n",
       "      <td>Mashed Potatoes</td>\n",
       "      <td>4.0</td>\n",
       "      <td>2.0</td>\n",
       "      <td>8.0</td>\n",
       "      <td>2022-01-27</td>\n",
       "      <td>Digital Wallet</td>\n",
       "    </tr>\n",
       "    <tr>\n",
       "      <th>17533</th>\n",
       "      <td>ORD_680707</td>\n",
       "      <td>CUST_006</td>\n",
       "      <td>Desserts</td>\n",
       "      <td>Cheesecake</td>\n",
       "      <td>7.0</td>\n",
       "      <td>4.0</td>\n",
       "      <td>28.0</td>\n",
       "      <td>2023-01-07</td>\n",
       "      <td>Cash</td>\n",
       "    </tr>\n",
       "  </tbody>\n",
       "</table>\n",
       "<p>16658 rows × 9 columns</p>\n",
       "</div>"
      ],
      "text/plain": [
       "         Order ID Customer ID     Category             Item  Price  Quantity  \\\n",
       "0      ORD_705844    CUST_092  Side Dishes       Side Salad    3.0       1.0   \n",
       "1      ORD_338528    CUST_021  Side Dishes  Mashed Potatoes    4.0       3.0   \n",
       "2      ORD_443849    CUST_029  Main Dishes  Grilled Chicken   15.0       4.0   \n",
       "4      ORD_648269    CUST_031  Main Dishes    Pasta Alfredo   12.0       4.0   \n",
       "5      ORD_381680    CUST_031  Main Dishes           Salmon   18.0       5.0   \n",
       "...           ...         ...          ...              ...    ...       ...   \n",
       "17528  ORD_721774    CUST_006  Side Dishes  Mashed Potatoes    4.0       5.0   \n",
       "17530  ORD_974128    CUST_069     Desserts        Ice Cream    5.0       3.0   \n",
       "17531  ORD_108324    CUST_050     Desserts        Ice Cream    5.0       4.0   \n",
       "17532  ORD_612647    CUST_073  Side Dishes  Mashed Potatoes    4.0       2.0   \n",
       "17533  ORD_680707    CUST_006     Desserts       Cheesecake    7.0       4.0   \n",
       "\n",
       "       Order Total Order Date  Payment Method  \n",
       "0              3.0 2023-12-21     Credit Card  \n",
       "1             12.0 2023-05-19  Digital Wallet  \n",
       "2             60.0 2023-09-27     Credit Card  \n",
       "4             48.0 2022-05-15            Cash  \n",
       "5             90.0 2022-07-20  Digital Wallet  \n",
       "...            ...        ...             ...  \n",
       "17528         20.0 2022-04-22  Digital Wallet  \n",
       "17530         15.0 2023-12-18            Cash  \n",
       "17531         20.0 2022-05-20  Digital Wallet  \n",
       "17532          8.0 2022-01-27  Digital Wallet  \n",
       "17533         28.0 2023-01-07            Cash  \n",
       "\n",
       "[16658 rows x 9 columns]"
      ]
     },
     "execution_count": 142,
     "metadata": {},
     "output_type": "execute_result"
    }
   ],
   "source": [
    "df"
   ]
  },
  {
   "cell_type": "markdown",
   "metadata": {},
   "source": [
    "Most purchased Items"
   ]
  },
  {
   "cell_type": "code",
   "execution_count": 143,
   "metadata": {},
   "outputs": [
    {
     "data": {
      "text/plain": [
       "Category\n",
       "Main Dishes    3370\n",
       "Starters       3355\n",
       "Desserts       3316\n",
       "Side Dishes    3312\n",
       "Drinks         3305\n",
       "Name: count, dtype: int64"
      ]
     },
     "execution_count": 143,
     "metadata": {},
     "output_type": "execute_result"
    }
   ],
   "source": [
    "df['Category'].value_counts()"
   ]
  },
  {
   "cell_type": "markdown",
   "metadata": {},
   "source": [
    "Main Dish"
   ]
  },
  {
   "cell_type": "code",
   "execution_count": 144,
   "metadata": {},
   "outputs": [
    {
     "data": {
      "image/png": "[encoded data removed]",
      "text/plain": [
       "<Figure size 1000x600 with 1 Axes>"
      ]
     },
     "metadata": {},
     "output_type": "display_data"
    }
   ],
   "source": [
    "main_dish = df[df['Category'] == 'Main Dishes']['Item'].value_counts().sort_values(ascending=True)\n",
    "main_dish.plot(kind='barh', figsize=(10, 6))\n",
    "\n",
    "\n",
    "plt.xlabel(\"Count\")\n",
    "plt.ylabel(\"Main Dish Items\")\n",
    "plt.title(\"Frequency of Main Dishes Ordered\")\n",
    "plt.show()"
   ]
  },
  {
   "cell_type": "markdown",
   "metadata": {},
   "source": [
    "Starters"
   ]
  },
  {
   "cell_type": "code",
   "execution_count": 145,
   "metadata": {},
   "outputs": [
    {
     "data": {
      "image/png": "[encoded data removed]",
      "text/plain": [
       "<Figure size 1000x600 with 1 Axes>"
      ]
     },
     "metadata": {},
     "output_type": "display_data"
    }
   ],
   "source": [
    "Starters = df[df['Category'] == 'Starters']['Item'].value_counts().sort_values(ascending=True)\n",
    "Starters.plot(kind='barh', figsize=(10, 6))\n",
    "\n",
    "\n",
    "plt.xlabel(\"Count\")\n",
    "plt.ylabel(\"Starters Items\")\n",
    "plt.title(\"Frequency of Starters Ordered\")\n",
    "plt.show()"
   ]
  },
  {
   "cell_type": "markdown",
   "metadata": {},
   "source": [
    "Desserts"
   ]
  },
  {
   "cell_type": "code",
   "execution_count": 146,
   "metadata": {},
   "outputs": [],
   "source": [
    "#remove items which are not desserts\n",
    "\n",
    "df_desserts = df[df['Category'] == 'Desserts']\n",
    "df_desserts = df_desserts[~df_desserts['Item'].isin(['Fruit Salad', 'Onion Rings', 'Sweet Potato Fries', 'Cheese Fries', 'Garlic Bread', 'Grilled Vegetables', 'French Fries', 'Beef Chili', 'Mashed Potatoes'])]\n"
   ]
  },
  {
   "cell_type": "code",
   "execution_count": 147,
   "metadata": {},
   "outputs": [
    {
     "data": {
      "image/png": "[encoded data removed]",
      "text/plain": [
       "<Figure size 1000x600 with 1 Axes>"
      ]
     },
     "metadata": {},
     "output_type": "display_data"
    }
   ],
   "source": [
    "desserts = df_desserts['Item'].value_counts().sort_values(ascending=True)\n",
    "\n",
    "desserts.plot(kind='barh', figsize=(10, 6))\n",
    "\n",
    "plt.xlabel(\"Count\")\n",
    "plt.ylabel(\"Dessert Items\")\n",
    "plt.title(\"Frequency of Desserts Ordered\")\n",
    "plt.show()"
   ]
  },
  {
   "cell_type": "markdown",
   "metadata": {},
   "source": [
    "Side Dishes"
   ]
  },
  {
   "cell_type": "code",
   "execution_count": 148,
   "metadata": {},
   "outputs": [
    {
     "data": {
      "image/png": "[encoded data removed]",
      "text/plain": [
       "<Figure size 1000x600 with 1 Axes>"
      ]
     },
     "metadata": {},
     "output_type": "display_data"
    }
   ],
   "source": [
    "Side_Dishes = df[df['Category'] == 'Side Dishes']['Item'].value_counts().sort_values(ascending=True)\n",
    "Side_Dishes.tail(4).plot(kind='barh', figsize=(10, 6))\n",
    "\n",
    "\n",
    "plt.xlabel(\"Count\")\n",
    "plt.ylabel(\"Side Dishes\")\n",
    "plt.title(\"Frequency of Side Dishes Ordered\")\n",
    "plt.show()"
   ]
  },
  {
   "cell_type": "code",
   "execution_count": 149,
   "metadata": {},
   "outputs": [
    {
     "data": {
      "text/html": [
       "<div>\n",
       "<style scoped>\n",
       "    .dataframe tbody tr th:only-of-type {\n",
       "        vertical-align: middle;\n",
       "    }\n",
       "\n",
       "    .dataframe tbody tr th {\n",
       "        vertical-align: top;\n",
       "    }\n",
       "\n",
       "    .dataframe thead th {\n",
       "        text-align: right;\n",
       "    }\n",
       "</style>\n",
       "<table border=\"1\" class=\"dataframe\">\n",
       "  <thead>\n",
       "    <tr style=\"text-align: right;\">\n",
       "      <th></th>\n",
       "      <th>Order ID</th>\n",
       "      <th>Customer ID</th>\n",
       "      <th>Category</th>\n",
       "      <th>Item</th>\n",
       "      <th>Price</th>\n",
       "      <th>Quantity</th>\n",
       "      <th>Order Total</th>\n",
       "      <th>Order Date</th>\n",
       "      <th>Payment Method</th>\n",
       "    </tr>\n",
       "  </thead>\n",
       "  <tbody>\n",
       "    <tr>\n",
       "      <th>15512</th>\n",
       "      <td>ORD_886414</td>\n",
       "      <td>CUST_044</td>\n",
       "      <td>Drinks</td>\n",
       "      <td>Water</td>\n",
       "      <td>1.0</td>\n",
       "      <td>5.0</td>\n",
       "      <td>5.0</td>\n",
       "      <td>2023-08-17</td>\n",
       "      <td>Digital Wallet</td>\n",
       "    </tr>\n",
       "  </tbody>\n",
       "</table>\n",
       "</div>"
      ],
      "text/plain": [
       "         Order ID Customer ID Category   Item  Price  Quantity  Order Total  \\\n",
       "15512  ORD_886414    CUST_044   Drinks  Water    1.0       5.0          5.0   \n",
       "\n",
       "      Order Date  Payment Method  \n",
       "15512 2023-08-17  Digital Wallet  "
      ]
     },
     "execution_count": 149,
     "metadata": {},
     "output_type": "execute_result"
    }
   ],
   "source": [
    "df.sample()"
   ]
  },
  {
   "cell_type": "code",
   "execution_count": 150,
   "metadata": {},
   "outputs": [],
   "source": [
    "df_items_counts = df.groupby(['Category','Item']).size()\n",
    "df_items_counts = df_items_counts.reset_index(name='Order Counts').sort_values(by='Order Counts',ascending=False)\n"
   ]
  },
  {
   "cell_type": "code",
   "execution_count": 151,
   "metadata": {},
   "outputs": [
    {
     "data": {
      "image/png": "[encoded data removed]",
      "text/plain": [
       "<Figure size 640x480 with 1 Axes>"
      ]
     },
     "metadata": {},
     "output_type": "display_data"
    }
   ],
   "source": [
    "# Define the category and top order\n",
    "category = 'Drinks'\n",
    "top_order = 3\n",
    "\n",
    "# Filter data for the specific category and get top items\n",
    "df_items_counts_filtered = df_items_counts[df_items_counts['Category'] == category].head(top_order)\n",
    "\n",
    "# Plot the bar chart for the filtered data\n",
    "df_items_counts_filtered.plot(kind='barh', x='Item', y='Order Counts')\n",
    "plt.gca().invert_yaxis()  # To invert the y-axis so the highest count is at the top\n",
    "plt.title(f\"Top {top_order} Items in {category} Category\")\n",
    "plt.xlabel(\"Order Counts\")\n",
    "plt.ylabel(\"Item\")\n",
    "plt.legend().set_visible(False)\n",
    "plt.show()"
   ]
  },
  {
   "cell_type": "code",
   "execution_count": 152,
   "metadata": {},
   "outputs": [
    {
     "data": {
      "text/html": [
       "<div>\n",
       "<style scoped>\n",
       "    .dataframe tbody tr th:only-of-type {\n",
       "        vertical-align: middle;\n",
       "    }\n",
       "\n",
       "    .dataframe tbody tr th {\n",
       "        vertical-align: top;\n",
       "    }\n",
       "\n",
       "    .dataframe thead th {\n",
       "        text-align: right;\n",
       "    }\n",
       "</style>\n",
       "<table border=\"1\" class=\"dataframe\">\n",
       "  <thead>\n",
       "    <tr style=\"text-align: right;\">\n",
       "      <th></th>\n",
       "      <th>Category</th>\n",
       "      <th>Item</th>\n",
       "      <th>Order Counts</th>\n",
       "    </tr>\n",
       "  </thead>\n",
       "  <tbody>\n",
       "    <tr>\n",
       "      <th>20</th>\n",
       "      <td>Main Dishes</td>\n",
       "      <td>Pasta Alfredo</td>\n",
       "      <td>1059</td>\n",
       "    </tr>\n",
       "    <tr>\n",
       "      <th>18</th>\n",
       "      <td>Drinks</td>\n",
       "      <td>Water</td>\n",
       "      <td>1022</td>\n",
       "    </tr>\n",
       "    <tr>\n",
       "      <th>34</th>\n",
       "      <td>Side Dishes</td>\n",
       "      <td>Side Salad</td>\n",
       "      <td>1002</td>\n",
       "    </tr>\n",
       "    <tr>\n",
       "      <th>9</th>\n",
       "      <td>Desserts</td>\n",
       "      <td>Ice Cream</td>\n",
       "      <td>947</td>\n",
       "    </tr>\n",
       "    <tr>\n",
       "      <th>40</th>\n",
       "      <td>Starters</td>\n",
       "      <td>French Fries</td>\n",
       "      <td>908</td>\n",
       "    </tr>\n",
       "    <tr>\n",
       "      <th>19</th>\n",
       "      <td>Main Dishes</td>\n",
       "      <td>Grilled Chicken</td>\n",
       "      <td>866</td>\n",
       "    </tr>\n",
       "    <tr>\n",
       "      <th>4</th>\n",
       "      <td>Desserts</td>\n",
       "      <td>Chocolate Cake</td>\n",
       "      <td>830</td>\n",
       "    </tr>\n",
       "    <tr>\n",
       "      <th>31</th>\n",
       "      <td>Side Dishes</td>\n",
       "      <td>Mashed Potatoes</td>\n",
       "      <td>807</td>\n",
       "    </tr>\n",
       "    <tr>\n",
       "      <th>13</th>\n",
       "      <td>Drinks</td>\n",
       "      <td>Coca Cola</td>\n",
       "      <td>790</td>\n",
       "    </tr>\n",
       "    <tr>\n",
       "      <th>37</th>\n",
       "      <td>Starters</td>\n",
       "      <td>Cheese Fries</td>\n",
       "      <td>693</td>\n",
       "    </tr>\n",
       "    <tr>\n",
       "      <th>16</th>\n",
       "      <td>Drinks</td>\n",
       "      <td>Orange Juice</td>\n",
       "      <td>621</td>\n",
       "    </tr>\n",
       "    <tr>\n",
       "      <th>22</th>\n",
       "      <td>Main Dishes</td>\n",
       "      <td>Steak</td>\n",
       "      <td>597</td>\n",
       "    </tr>\n",
       "    <tr>\n",
       "      <th>28</th>\n",
       "      <td>Side Dishes</td>\n",
       "      <td>Grilled Vegetables</td>\n",
       "      <td>591</td>\n",
       "    </tr>\n",
       "    <tr>\n",
       "      <th>1</th>\n",
       "      <td>Desserts</td>\n",
       "      <td>Brownie</td>\n",
       "      <td>507</td>\n",
       "    </tr>\n",
       "    <tr>\n",
       "      <th>3</th>\n",
       "      <td>Desserts</td>\n",
       "      <td>Cheesecake</td>\n",
       "      <td>497</td>\n",
       "    </tr>\n",
       "    <tr>\n",
       "      <th>15</th>\n",
       "      <td>Drinks</td>\n",
       "      <td>Lemonade</td>\n",
       "      <td>494</td>\n",
       "    </tr>\n",
       "    <tr>\n",
       "      <th>36</th>\n",
       "      <td>Starters</td>\n",
       "      <td>Beef Chili</td>\n",
       "      <td>486</td>\n",
       "    </tr>\n",
       "    <tr>\n",
       "      <th>48</th>\n",
       "      <td>Starters</td>\n",
       "      <td>Sweet Potato Fries</td>\n",
       "      <td>482</td>\n",
       "    </tr>\n",
       "    <tr>\n",
       "      <th>39</th>\n",
       "      <td>Starters</td>\n",
       "      <td>Chicken Melt</td>\n",
       "      <td>466</td>\n",
       "    </tr>\n",
       "    <tr>\n",
       "      <th>6</th>\n",
       "      <td>Desserts</td>\n",
       "      <td>Fruit Salad</td>\n",
       "      <td>455</td>\n",
       "    </tr>\n",
       "    <tr>\n",
       "      <th>21</th>\n",
       "      <td>Main Dishes</td>\n",
       "      <td>Salmon</td>\n",
       "      <td>445</td>\n",
       "    </tr>\n",
       "    <tr>\n",
       "      <th>27</th>\n",
       "      <td>Side Dishes</td>\n",
       "      <td>Garlic Bread</td>\n",
       "      <td>413</td>\n",
       "    </tr>\n",
       "    <tr>\n",
       "      <th>23</th>\n",
       "      <td>Main Dishes</td>\n",
       "      <td>Vegetarian Platter</td>\n",
       "      <td>403</td>\n",
       "    </tr>\n",
       "    <tr>\n",
       "      <th>32</th>\n",
       "      <td>Side Dishes</td>\n",
       "      <td>Onion Rings</td>\n",
       "      <td>386</td>\n",
       "    </tr>\n",
       "    <tr>\n",
       "      <th>14</th>\n",
       "      <td>Drinks</td>\n",
       "      <td>Iced Tea</td>\n",
       "      <td>354</td>\n",
       "    </tr>\n",
       "    <tr>\n",
       "      <th>46</th>\n",
       "      <td>Starters</td>\n",
       "      <td>Nachos Grande</td>\n",
       "      <td>247</td>\n",
       "    </tr>\n",
       "    <tr>\n",
       "      <th>33</th>\n",
       "      <td>Side Dishes</td>\n",
       "      <td>Orange Juice</td>\n",
       "      <td>25</td>\n",
       "    </tr>\n",
       "    <tr>\n",
       "      <th>17</th>\n",
       "      <td>Drinks</td>\n",
       "      <td>Side Salad</td>\n",
       "      <td>24</td>\n",
       "    </tr>\n",
       "    <tr>\n",
       "      <th>24</th>\n",
       "      <td>Side Dishes</td>\n",
       "      <td>Cheese Fries</td>\n",
       "      <td>16</td>\n",
       "    </tr>\n",
       "    <tr>\n",
       "      <th>45</th>\n",
       "      <td>Starters</td>\n",
       "      <td>Mashed Potatoes</td>\n",
       "      <td>15</td>\n",
       "    </tr>\n",
       "    <tr>\n",
       "      <th>35</th>\n",
       "      <td>Side Dishes</td>\n",
       "      <td>Sweet Potato Fries</td>\n",
       "      <td>15</td>\n",
       "    </tr>\n",
       "    <tr>\n",
       "      <th>25</th>\n",
       "      <td>Side Dishes</td>\n",
       "      <td>French Fries</td>\n",
       "      <td>15</td>\n",
       "    </tr>\n",
       "    <tr>\n",
       "      <th>29</th>\n",
       "      <td>Side Dishes</td>\n",
       "      <td>Ice Cream</td>\n",
       "      <td>15</td>\n",
       "    </tr>\n",
       "    <tr>\n",
       "      <th>30</th>\n",
       "      <td>Side Dishes</td>\n",
       "      <td>Lemonade</td>\n",
       "      <td>14</td>\n",
       "    </tr>\n",
       "    <tr>\n",
       "      <th>2</th>\n",
       "      <td>Desserts</td>\n",
       "      <td>Cheese Fries</td>\n",
       "      <td>14</td>\n",
       "    </tr>\n",
       "    <tr>\n",
       "      <th>8</th>\n",
       "      <td>Desserts</td>\n",
       "      <td>Grilled Vegetables</td>\n",
       "      <td>13</td>\n",
       "    </tr>\n",
       "    <tr>\n",
       "      <th>26</th>\n",
       "      <td>Side Dishes</td>\n",
       "      <td>Fruit Salad</td>\n",
       "      <td>13</td>\n",
       "    </tr>\n",
       "    <tr>\n",
       "      <th>11</th>\n",
       "      <td>Desserts</td>\n",
       "      <td>Onion Rings</td>\n",
       "      <td>12</td>\n",
       "    </tr>\n",
       "    <tr>\n",
       "      <th>12</th>\n",
       "      <td>Desserts</td>\n",
       "      <td>Sweet Potato Fries</td>\n",
       "      <td>12</td>\n",
       "    </tr>\n",
       "    <tr>\n",
       "      <th>42</th>\n",
       "      <td>Starters</td>\n",
       "      <td>Garlic Bread</td>\n",
       "      <td>12</td>\n",
       "    </tr>\n",
       "    <tr>\n",
       "      <th>41</th>\n",
       "      <td>Starters</td>\n",
       "      <td>Fruit Salad</td>\n",
       "      <td>11</td>\n",
       "    </tr>\n",
       "    <tr>\n",
       "      <th>38</th>\n",
       "      <td>Starters</td>\n",
       "      <td>Cheesecake</td>\n",
       "      <td>10</td>\n",
       "    </tr>\n",
       "    <tr>\n",
       "      <th>47</th>\n",
       "      <td>Starters</td>\n",
       "      <td>Onion Rings</td>\n",
       "      <td>9</td>\n",
       "    </tr>\n",
       "    <tr>\n",
       "      <th>10</th>\n",
       "      <td>Desserts</td>\n",
       "      <td>Mashed Potatoes</td>\n",
       "      <td>9</td>\n",
       "    </tr>\n",
       "    <tr>\n",
       "      <th>7</th>\n",
       "      <td>Desserts</td>\n",
       "      <td>Garlic Bread</td>\n",
       "      <td>8</td>\n",
       "    </tr>\n",
       "    <tr>\n",
       "      <th>44</th>\n",
       "      <td>Starters</td>\n",
       "      <td>Ice Cream</td>\n",
       "      <td>8</td>\n",
       "    </tr>\n",
       "    <tr>\n",
       "      <th>43</th>\n",
       "      <td>Starters</td>\n",
       "      <td>Grilled Vegetables</td>\n",
       "      <td>8</td>\n",
       "    </tr>\n",
       "    <tr>\n",
       "      <th>5</th>\n",
       "      <td>Desserts</td>\n",
       "      <td>French Fries</td>\n",
       "      <td>7</td>\n",
       "    </tr>\n",
       "    <tr>\n",
       "      <th>0</th>\n",
       "      <td>Desserts</td>\n",
       "      <td>Beef Chili</td>\n",
       "      <td>5</td>\n",
       "    </tr>\n",
       "  </tbody>\n",
       "</table>\n",
       "</div>"
      ],
      "text/plain": [
       "       Category                Item  Order Counts\n",
       "20  Main Dishes       Pasta Alfredo          1059\n",
       "18       Drinks               Water          1022\n",
       "34  Side Dishes          Side Salad          1002\n",
       "9      Desserts           Ice Cream           947\n",
       "40     Starters        French Fries           908\n",
       "19  Main Dishes     Grilled Chicken           866\n",
       "4      Desserts      Chocolate Cake           830\n",
       "31  Side Dishes     Mashed Potatoes           807\n",
       "13       Drinks           Coca Cola           790\n",
       "37     Starters        Cheese Fries           693\n",
       "16       Drinks        Orange Juice           621\n",
       "22  Main Dishes               Steak           597\n",
       "28  Side Dishes  Grilled Vegetables           591\n",
       "1      Desserts             Brownie           507\n",
       "3      Desserts          Cheesecake           497\n",
       "15       Drinks            Lemonade           494\n",
       "36     Starters          Beef Chili           486\n",
       "48     Starters  Sweet Potato Fries           482\n",
       "39     Starters        Chicken Melt           466\n",
       "6      Desserts         Fruit Salad           455\n",
       "21  Main Dishes              Salmon           445\n",
       "27  Side Dishes        Garlic Bread           413\n",
       "23  Main Dishes  Vegetarian Platter           403\n",
       "32  Side Dishes         Onion Rings           386\n",
       "14       Drinks            Iced Tea           354\n",
       "46     Starters       Nachos Grande           247\n",
       "33  Side Dishes        Orange Juice            25\n",
       "17       Drinks          Side Salad            24\n",
       "24  Side Dishes        Cheese Fries            16\n",
       "45     Starters     Mashed Potatoes            15\n",
       "35  Side Dishes  Sweet Potato Fries            15\n",
       "25  Side Dishes        French Fries            15\n",
       "29  Side Dishes           Ice Cream            15\n",
       "30  Side Dishes            Lemonade            14\n",
       "2      Desserts        Cheese Fries            14\n",
       "8      Desserts  Grilled Vegetables            13\n",
       "26  Side Dishes         Fruit Salad            13\n",
       "11     Desserts         Onion Rings            12\n",
       "12     Desserts  Sweet Potato Fries            12\n",
       "42     Starters        Garlic Bread            12\n",
       "41     Starters         Fruit Salad            11\n",
       "38     Starters          Cheesecake            10\n",
       "47     Starters         Onion Rings             9\n",
       "10     Desserts     Mashed Potatoes             9\n",
       "7      Desserts        Garlic Bread             8\n",
       "44     Starters           Ice Cream             8\n",
       "43     Starters  Grilled Vegetables             8\n",
       "5      Desserts        French Fries             7\n",
       "0      Desserts          Beef Chili             5"
      ]
     },
     "execution_count": 152,
     "metadata": {},
     "output_type": "execute_result"
    }
   ],
   "source": [
    "df_items_counts"
   ]
  },
  {
   "cell_type": "code",
   "execution_count": 153,
   "metadata": {},
   "outputs": [
    {
     "data": {
      "image/png": "[encoded data removed]",
      "text/plain": [
       "<Figure size 640x480 with 1 Axes>"
      ]
     },
     "metadata": {},
     "output_type": "display_data"
    }
   ],
   "source": [
    "category = 'Main Dishes'\n",
    "top_order = 3\n",
    "\n",
    "# Filter data for the specific category and get top items\n",
    "df_items_counts_filtered = df_items_counts[df_items_counts['Category'] == category].head(top_order)\n",
    "\n",
    "# Plot the bar chart for the filtered data\n",
    "df_items_counts_filtered.plot(kind='barh', x='Item', y='Order Counts')\n",
    "plt.gca().invert_yaxis()  # To invert the y-axis so the highest count is at the top\n",
    "plt.title(f\"Top {top_order} Items in {category} Category\")\n",
    "plt.xlabel(\"Order Counts\")\n",
    "plt.ylabel(\"Item\")\n",
    "plt.legend().set_visible(False)\n",
    "plt.show()"
   ]
  },
  {
   "cell_type": "code",
   "execution_count": 154,
   "metadata": {},
   "outputs": [
    {
     "data": {
      "text/html": [
       "<div>\n",
       "<style scoped>\n",
       "    .dataframe tbody tr th:only-of-type {\n",
       "        vertical-align: middle;\n",
       "    }\n",
       "\n",
       "    .dataframe tbody tr th {\n",
       "        vertical-align: top;\n",
       "    }\n",
       "\n",
       "    .dataframe thead th {\n",
       "        text-align: right;\n",
       "    }\n",
       "</style>\n",
       "<table border=\"1\" class=\"dataframe\">\n",
       "  <thead>\n",
       "    <tr style=\"text-align: right;\">\n",
       "      <th></th>\n",
       "      <th>Order ID</th>\n",
       "      <th>Customer ID</th>\n",
       "      <th>Category</th>\n",
       "      <th>Item</th>\n",
       "      <th>Price</th>\n",
       "      <th>Quantity</th>\n",
       "      <th>Order Total</th>\n",
       "      <th>Order Date</th>\n",
       "      <th>Payment Method</th>\n",
       "      <th>Order Month No</th>\n",
       "    </tr>\n",
       "  </thead>\n",
       "  <tbody>\n",
       "    <tr>\n",
       "      <th>0</th>\n",
       "      <td>ORD_705844</td>\n",
       "      <td>CUST_092</td>\n",
       "      <td>Side Dishes</td>\n",
       "      <td>Side Salad</td>\n",
       "      <td>3.0</td>\n",
       "      <td>1.0</td>\n",
       "      <td>3.0</td>\n",
       "      <td>2023-12-21</td>\n",
       "      <td>Credit Card</td>\n",
       "      <td>12</td>\n",
       "    </tr>\n",
       "    <tr>\n",
       "      <th>1</th>\n",
       "      <td>ORD_338528</td>\n",
       "      <td>CUST_021</td>\n",
       "      <td>Side Dishes</td>\n",
       "      <td>Mashed Potatoes</td>\n",
       "      <td>4.0</td>\n",
       "      <td>3.0</td>\n",
       "      <td>12.0</td>\n",
       "      <td>2023-05-19</td>\n",
       "      <td>Digital Wallet</td>\n",
       "      <td>5</td>\n",
       "    </tr>\n",
       "    <tr>\n",
       "      <th>2</th>\n",
       "      <td>ORD_443849</td>\n",
       "      <td>CUST_029</td>\n",
       "      <td>Main Dishes</td>\n",
       "      <td>Grilled Chicken</td>\n",
       "      <td>15.0</td>\n",
       "      <td>4.0</td>\n",
       "      <td>60.0</td>\n",
       "      <td>2023-09-27</td>\n",
       "      <td>Credit Card</td>\n",
       "      <td>9</td>\n",
       "    </tr>\n",
       "    <tr>\n",
       "      <th>4</th>\n",
       "      <td>ORD_648269</td>\n",
       "      <td>CUST_031</td>\n",
       "      <td>Main Dishes</td>\n",
       "      <td>Pasta Alfredo</td>\n",
       "      <td>12.0</td>\n",
       "      <td>4.0</td>\n",
       "      <td>48.0</td>\n",
       "      <td>2022-05-15</td>\n",
       "      <td>Cash</td>\n",
       "      <td>5</td>\n",
       "    </tr>\n",
       "    <tr>\n",
       "      <th>5</th>\n",
       "      <td>ORD_381680</td>\n",
       "      <td>CUST_031</td>\n",
       "      <td>Main Dishes</td>\n",
       "      <td>Salmon</td>\n",
       "      <td>18.0</td>\n",
       "      <td>5.0</td>\n",
       "      <td>90.0</td>\n",
       "      <td>2022-07-20</td>\n",
       "      <td>Digital Wallet</td>\n",
       "      <td>7</td>\n",
       "    </tr>\n",
       "    <tr>\n",
       "      <th>...</th>\n",
       "      <td>...</td>\n",
       "      <td>...</td>\n",
       "      <td>...</td>\n",
       "      <td>...</td>\n",
       "      <td>...</td>\n",
       "      <td>...</td>\n",
       "      <td>...</td>\n",
       "      <td>...</td>\n",
       "      <td>...</td>\n",
       "      <td>...</td>\n",
       "    </tr>\n",
       "    <tr>\n",
       "      <th>17528</th>\n",
       "      <td>ORD_721774</td>\n",
       "      <td>CUST_006</td>\n",
       "      <td>Side Dishes</td>\n",
       "      <td>Mashed Potatoes</td>\n",
       "      <td>4.0</td>\n",
       "      <td>5.0</td>\n",
       "      <td>20.0</td>\n",
       "      <td>2022-04-22</td>\n",
       "      <td>Digital Wallet</td>\n",
       "      <td>4</td>\n",
       "    </tr>\n",
       "    <tr>\n",
       "      <th>17530</th>\n",
       "      <td>ORD_974128</td>\n",
       "      <td>CUST_069</td>\n",
       "      <td>Desserts</td>\n",
       "      <td>Ice Cream</td>\n",
       "      <td>5.0</td>\n",
       "      <td>3.0</td>\n",
       "      <td>15.0</td>\n",
       "      <td>2023-12-18</td>\n",
       "      <td>Cash</td>\n",
       "      <td>12</td>\n",
       "    </tr>\n",
       "    <tr>\n",
       "      <th>17531</th>\n",
       "      <td>ORD_108324</td>\n",
       "      <td>CUST_050</td>\n",
       "      <td>Desserts</td>\n",
       "      <td>Ice Cream</td>\n",
       "      <td>5.0</td>\n",
       "      <td>4.0</td>\n",
       "      <td>20.0</td>\n",
       "      <td>2022-05-20</td>\n",
       "      <td>Digital Wallet</td>\n",
       "      <td>5</td>\n",
       "    </tr>\n",
       "    <tr>\n",
       "      <th>17532</th>\n",
       "      <td>ORD_612647</td>\n",
       "      <td>CUST_073</td>\n",
       "      <td>Side Dishes</td>\n",
       "      <td>Mashed Potatoes</td>\n",
       "      <td>4.0</td>\n",
       "      <td>2.0</td>\n",
       "      <td>8.0</td>\n",
       "      <td>2022-01-27</td>\n",
       "      <td>Digital Wallet</td>\n",
       "      <td>1</td>\n",
       "    </tr>\n",
       "    <tr>\n",
       "      <th>17533</th>\n",
       "      <td>ORD_680707</td>\n",
       "      <td>CUST_006</td>\n",
       "      <td>Desserts</td>\n",
       "      <td>Cheesecake</td>\n",
       "      <td>7.0</td>\n",
       "      <td>4.0</td>\n",
       "      <td>28.0</td>\n",
       "      <td>2023-01-07</td>\n",
       "      <td>Cash</td>\n",
       "      <td>1</td>\n",
       "    </tr>\n",
       "  </tbody>\n",
       "</table>\n",
       "<p>16658 rows × 10 columns</p>\n",
       "</div>"
      ],
      "text/plain": [
       "         Order ID Customer ID     Category             Item  Price  Quantity  \\\n",
       "0      ORD_705844    CUST_092  Side Dishes       Side Salad    3.0       1.0   \n",
       "1      ORD_338528    CUST_021  Side Dishes  Mashed Potatoes    4.0       3.0   \n",
       "2      ORD_443849    CUST_029  Main Dishes  Grilled Chicken   15.0       4.0   \n",
       "4      ORD_648269    CUST_031  Main Dishes    Pasta Alfredo   12.0       4.0   \n",
       "5      ORD_381680    CUST_031  Main Dishes           Salmon   18.0       5.0   \n",
       "...           ...         ...          ...              ...    ...       ...   \n",
       "17528  ORD_721774    CUST_006  Side Dishes  Mashed Potatoes    4.0       5.0   \n",
       "17530  ORD_974128    CUST_069     Desserts        Ice Cream    5.0       3.0   \n",
       "17531  ORD_108324    CUST_050     Desserts        Ice Cream    5.0       4.0   \n",
       "17532  ORD_612647    CUST_073  Side Dishes  Mashed Potatoes    4.0       2.0   \n",
       "17533  ORD_680707    CUST_006     Desserts       Cheesecake    7.0       4.0   \n",
       "\n",
       "       Order Total Order Date  Payment Method  Order Month No  \n",
       "0              3.0 2023-12-21     Credit Card              12  \n",
       "1             12.0 2023-05-19  Digital Wallet               5  \n",
       "2             60.0 2023-09-27     Credit Card               9  \n",
       "4             48.0 2022-05-15            Cash               5  \n",
       "5             90.0 2022-07-20  Digital Wallet               7  \n",
       "...            ...        ...             ...             ...  \n",
       "17528         20.0 2022-04-22  Digital Wallet               4  \n",
       "17530         15.0 2023-12-18            Cash              12  \n",
       "17531         20.0 2022-05-20  Digital Wallet               5  \n",
       "17532          8.0 2022-01-27  Digital Wallet               1  \n",
       "17533         28.0 2023-01-07            Cash               1  \n",
       "\n",
       "[16658 rows x 10 columns]"
      ]
     },
     "execution_count": 154,
     "metadata": {},
     "output_type": "execute_result"
    }
   ],
   "source": [
    "df['Order Month No'] = df['Order Date'].dt.month\n",
    "df"
   ]
  },
  {
   "cell_type": "code",
   "execution_count": 155,
   "metadata": {},
   "outputs": [
    {
     "data": {
      "text/html": [
       "<div>\n",
       "<style scoped>\n",
       "    .dataframe tbody tr th:only-of-type {\n",
       "        vertical-align: middle;\n",
       "    }\n",
       "\n",
       "    .dataframe tbody tr th {\n",
       "        vertical-align: top;\n",
       "    }\n",
       "\n",
       "    .dataframe thead th {\n",
       "        text-align: right;\n",
       "    }\n",
       "</style>\n",
       "<table border=\"1\" class=\"dataframe\">\n",
       "  <thead>\n",
       "    <tr style=\"text-align: right;\">\n",
       "      <th></th>\n",
       "      <th>Order ID</th>\n",
       "      <th>Customer ID</th>\n",
       "      <th>Category</th>\n",
       "      <th>Item</th>\n",
       "      <th>Price</th>\n",
       "      <th>Quantity</th>\n",
       "      <th>Order Total</th>\n",
       "      <th>Order Date</th>\n",
       "      <th>Payment Method</th>\n",
       "      <th>Order Month No</th>\n",
       "    </tr>\n",
       "  </thead>\n",
       "  <tbody>\n",
       "    <tr>\n",
       "      <th>2</th>\n",
       "      <td>ORD_443849</td>\n",
       "      <td>CUST_029</td>\n",
       "      <td>Main Dishes</td>\n",
       "      <td>Grilled Chicken</td>\n",
       "      <td>15.0</td>\n",
       "      <td>4.0</td>\n",
       "      <td>60.0</td>\n",
       "      <td>2023-09-27</td>\n",
       "      <td>Credit Card</td>\n",
       "      <td>9</td>\n",
       "    </tr>\n",
       "    <tr>\n",
       "      <th>4</th>\n",
       "      <td>ORD_648269</td>\n",
       "      <td>CUST_031</td>\n",
       "      <td>Main Dishes</td>\n",
       "      <td>Pasta Alfredo</td>\n",
       "      <td>12.0</td>\n",
       "      <td>4.0</td>\n",
       "      <td>48.0</td>\n",
       "      <td>2022-05-15</td>\n",
       "      <td>Cash</td>\n",
       "      <td>5</td>\n",
       "    </tr>\n",
       "    <tr>\n",
       "      <th>5</th>\n",
       "      <td>ORD_381680</td>\n",
       "      <td>CUST_031</td>\n",
       "      <td>Main Dishes</td>\n",
       "      <td>Salmon</td>\n",
       "      <td>18.0</td>\n",
       "      <td>5.0</td>\n",
       "      <td>90.0</td>\n",
       "      <td>2022-07-20</td>\n",
       "      <td>Digital Wallet</td>\n",
       "      <td>7</td>\n",
       "    </tr>\n",
       "    <tr>\n",
       "      <th>7</th>\n",
       "      <td>ORD_146656</td>\n",
       "      <td>CUST_077</td>\n",
       "      <td>Main Dishes</td>\n",
       "      <td>Grilled Chicken</td>\n",
       "      <td>15.0</td>\n",
       "      <td>3.0</td>\n",
       "      <td>45.0</td>\n",
       "      <td>2023-02-15</td>\n",
       "      <td>Cash</td>\n",
       "      <td>2</td>\n",
       "    </tr>\n",
       "    <tr>\n",
       "      <th>9</th>\n",
       "      <td>ORD_743636</td>\n",
       "      <td>CUST_085</td>\n",
       "      <td>Main Dishes</td>\n",
       "      <td>Vegetarian Platter</td>\n",
       "      <td>14.0</td>\n",
       "      <td>5.0</td>\n",
       "      <td>70.0</td>\n",
       "      <td>2022-08-07</td>\n",
       "      <td>Cash</td>\n",
       "      <td>8</td>\n",
       "    </tr>\n",
       "    <tr>\n",
       "      <th>...</th>\n",
       "      <td>...</td>\n",
       "      <td>...</td>\n",
       "      <td>...</td>\n",
       "      <td>...</td>\n",
       "      <td>...</td>\n",
       "      <td>...</td>\n",
       "      <td>...</td>\n",
       "      <td>...</td>\n",
       "      <td>...</td>\n",
       "      <td>...</td>\n",
       "    </tr>\n",
       "    <tr>\n",
       "      <th>17501</th>\n",
       "      <td>ORD_283986</td>\n",
       "      <td>CUST_028</td>\n",
       "      <td>Main Dishes</td>\n",
       "      <td>Pasta Alfredo</td>\n",
       "      <td>12.0</td>\n",
       "      <td>5.0</td>\n",
       "      <td>60.0</td>\n",
       "      <td>2022-08-05</td>\n",
       "      <td>Credit Card</td>\n",
       "      <td>8</td>\n",
       "    </tr>\n",
       "    <tr>\n",
       "      <th>17505</th>\n",
       "      <td>ORD_605079</td>\n",
       "      <td>CUST_089</td>\n",
       "      <td>Main Dishes</td>\n",
       "      <td>Grilled Chicken</td>\n",
       "      <td>15.0</td>\n",
       "      <td>4.0</td>\n",
       "      <td>60.0</td>\n",
       "      <td>2022-12-23</td>\n",
       "      <td>Cash</td>\n",
       "      <td>12</td>\n",
       "    </tr>\n",
       "    <tr>\n",
       "      <th>17524</th>\n",
       "      <td>ORD_603601</td>\n",
       "      <td>CUST_083</td>\n",
       "      <td>Main Dishes</td>\n",
       "      <td>Pasta Alfredo</td>\n",
       "      <td>12.0</td>\n",
       "      <td>4.0</td>\n",
       "      <td>48.0</td>\n",
       "      <td>2022-11-08</td>\n",
       "      <td>Credit Card</td>\n",
       "      <td>11</td>\n",
       "    </tr>\n",
       "    <tr>\n",
       "      <th>17525</th>\n",
       "      <td>ORD_326555</td>\n",
       "      <td>CUST_095</td>\n",
       "      <td>Main Dishes</td>\n",
       "      <td>Pasta Alfredo</td>\n",
       "      <td>12.0</td>\n",
       "      <td>3.0</td>\n",
       "      <td>36.0</td>\n",
       "      <td>2023-07-24</td>\n",
       "      <td>Digital Wallet</td>\n",
       "      <td>7</td>\n",
       "    </tr>\n",
       "    <tr>\n",
       "      <th>17526</th>\n",
       "      <td>ORD_503140</td>\n",
       "      <td>CUST_094</td>\n",
       "      <td>Main Dishes</td>\n",
       "      <td>Pasta Alfredo</td>\n",
       "      <td>12.0</td>\n",
       "      <td>3.0</td>\n",
       "      <td>36.0</td>\n",
       "      <td>2023-04-10</td>\n",
       "      <td>Credit Card</td>\n",
       "      <td>4</td>\n",
       "    </tr>\n",
       "  </tbody>\n",
       "</table>\n",
       "<p>3370 rows × 10 columns</p>\n",
       "</div>"
      ],
      "text/plain": [
       "         Order ID Customer ID     Category                Item  Price  \\\n",
       "2      ORD_443849    CUST_029  Main Dishes     Grilled Chicken   15.0   \n",
       "4      ORD_648269    CUST_031  Main Dishes       Pasta Alfredo   12.0   \n",
       "5      ORD_381680    CUST_031  Main Dishes              Salmon   18.0   \n",
       "7      ORD_146656    CUST_077  Main Dishes     Grilled Chicken   15.0   \n",
       "9      ORD_743636    CUST_085  Main Dishes  Vegetarian Platter   14.0   \n",
       "...           ...         ...          ...                 ...    ...   \n",
       "17501  ORD_283986    CUST_028  Main Dishes       Pasta Alfredo   12.0   \n",
       "17505  ORD_605079    CUST_089  Main Dishes     Grilled Chicken   15.0   \n",
       "17524  ORD_603601    CUST_083  Main Dishes       Pasta Alfredo   12.0   \n",
       "17525  ORD_326555    CUST_095  Main Dishes       Pasta Alfredo   12.0   \n",
       "17526  ORD_503140    CUST_094  Main Dishes       Pasta Alfredo   12.0   \n",
       "\n",
       "       Quantity  Order Total Order Date  Payment Method  Order Month No  \n",
       "2           4.0         60.0 2023-09-27     Credit Card               9  \n",
       "4           4.0         48.0 2022-05-15            Cash               5  \n",
       "5           5.0         90.0 2022-07-20  Digital Wallet               7  \n",
       "7           3.0         45.0 2023-02-15            Cash               2  \n",
       "9           5.0         70.0 2022-08-07            Cash               8  \n",
       "...         ...          ...        ...             ...             ...  \n",
       "17501       5.0         60.0 2022-08-05     Credit Card               8  \n",
       "17505       4.0         60.0 2022-12-23            Cash              12  \n",
       "17524       4.0         48.0 2022-11-08     Credit Card              11  \n",
       "17525       3.0         36.0 2023-07-24  Digital Wallet               7  \n",
       "17526       3.0         36.0 2023-04-10     Credit Card               4  \n",
       "\n",
       "[3370 rows x 10 columns]"
      ]
     },
     "execution_count": 155,
     "metadata": {},
     "output_type": "execute_result"
    }
   ],
   "source": [
    "df_main_dishes = df[df['Category'] == 'Main Dishes']\n",
    "df_main_dishes"
   ]
  },
  {
   "cell_type": "code",
   "execution_count": 156,
   "metadata": {},
   "outputs": [],
   "source": [
    "df_main_dishes_pivot = df_main_dishes.pivot_table(index='Order Month No', columns='Item', aggfunc='size',fill_value=0)\n",
    "df_main_dishes_pivot.loc['Total'] = df_main_dishes_pivot.sum()\n",
    "df_main_dishes_pivot = df_main_dishes_pivot[df_main_dishes_pivot.loc['Total'].sort_values(ascending=False).index]"
   ]
  },
  {
   "cell_type": "code",
   "execution_count": 157,
   "metadata": {},
   "outputs": [],
   "source": [
    "df_main_dishes_pivot = df_main_dishes_pivot.drop('Total')"
   ]
  },
  {
   "cell_type": "code",
   "execution_count": 158,
   "metadata": {},
   "outputs": [
    {
     "data": {
      "image/png": "[encoded data removed]",
      "text/plain": [
       "<Figure size 1000x600 with 1 Axes>"
      ]
     },
     "metadata": {},
     "output_type": "display_data"
    }
   ],
   "source": [
    "ax = df_main_dishes_pivot.plot(kind='line', figsize=(10, 6))\n",
    "\n",
    "# Adding labels and title\n",
    "plt.xlabel(\"Order Month No\")\n",
    "plt.ylabel(\"Number of Orders\")\n",
    "plt.title(\"Monthly Orders of Main Dishes\")\n",
    "\n",
    "# Move the legend outside the plot\n",
    "plt.legend(title=\"Item\", bbox_to_anchor=(1.05, 1), loc='upper left')\n",
    "\n",
    "# Show the plot\n",
    "plt.tight_layout()  # Adjust layout to fit legend\n",
    "plt.show()\n"
   ]
  },
  {
   "cell_type": "code",
   "execution_count": 159,
   "metadata": {},
   "outputs": [
    {
     "data": {
      "text/plain": [
       "Category\n",
       "Main Dishes    3370\n",
       "Starters       3355\n",
       "Desserts       3316\n",
       "Side Dishes    3312\n",
       "Drinks         3305\n",
       "Name: count, dtype: int64"
      ]
     },
     "execution_count": 159,
     "metadata": {},
     "output_type": "execute_result"
    }
   ],
   "source": [
    "df['Category'].value_counts()"
   ]
  },
  {
   "cell_type": "code",
   "execution_count": 160,
   "metadata": {},
   "outputs": [
    {
     "data": {
      "text/html": [
       "<div>\n",
       "<style scoped>\n",
       "    .dataframe tbody tr th:only-of-type {\n",
       "        vertical-align: middle;\n",
       "    }\n",
       "\n",
       "    .dataframe tbody tr th {\n",
       "        vertical-align: top;\n",
       "    }\n",
       "\n",
       "    .dataframe thead th {\n",
       "        text-align: right;\n",
       "    }\n",
       "</style>\n",
       "<table border=\"1\" class=\"dataframe\">\n",
       "  <thead>\n",
       "    <tr style=\"text-align: right;\">\n",
       "      <th></th>\n",
       "      <th>Order ID</th>\n",
       "      <th>Customer ID</th>\n",
       "      <th>Category</th>\n",
       "      <th>Item</th>\n",
       "      <th>Price</th>\n",
       "      <th>Quantity</th>\n",
       "      <th>Order Total</th>\n",
       "      <th>Order Date</th>\n",
       "      <th>Payment Method</th>\n",
       "      <th>Order Month No</th>\n",
       "    </tr>\n",
       "  </thead>\n",
       "  <tbody>\n",
       "    <tr>\n",
       "      <th>12045</th>\n",
       "      <td>ORD_634805</td>\n",
       "      <td>CUST_029</td>\n",
       "      <td>Side Dishes</td>\n",
       "      <td>Mashed Potatoes</td>\n",
       "      <td>4.0</td>\n",
       "      <td>3.0</td>\n",
       "      <td>12.0</td>\n",
       "      <td>2022-10-27</td>\n",
       "      <td>Digital Wallet</td>\n",
       "      <td>10</td>\n",
       "    </tr>\n",
       "  </tbody>\n",
       "</table>\n",
       "</div>"
      ],
      "text/plain": [
       "         Order ID Customer ID     Category             Item  Price  Quantity  \\\n",
       "12045  ORD_634805    CUST_029  Side Dishes  Mashed Potatoes    4.0       3.0   \n",
       "\n",
       "       Order Total Order Date  Payment Method  Order Month No  \n",
       "12045         12.0 2022-10-27  Digital Wallet              10  "
      ]
     },
     "execution_count": 160,
     "metadata": {},
     "output_type": "execute_result"
    }
   ],
   "source": [
    "df.sample()"
   ]
  },
  {
   "cell_type": "code",
   "execution_count": 161,
   "metadata": {},
   "outputs": [],
   "source": [
    "category = ['Main Dishes','Starters','Desserts','Side Dishes','Drinks']"
   ]
  },
  {
   "cell_type": "code",
   "execution_count": 162,
   "metadata": {},
   "outputs": [
    {
     "data": {
      "text/html": [
       "<div>\n",
       "<style scoped>\n",
       "    .dataframe tbody tr th:only-of-type {\n",
       "        vertical-align: middle;\n",
       "    }\n",
       "\n",
       "    .dataframe tbody tr th {\n",
       "        vertical-align: top;\n",
       "    }\n",
       "\n",
       "    .dataframe thead th {\n",
       "        text-align: right;\n",
       "    }\n",
       "</style>\n",
       "<table border=\"1\" class=\"dataframe\">\n",
       "  <thead>\n",
       "    <tr style=\"text-align: right;\">\n",
       "      <th></th>\n",
       "      <th>Category</th>\n",
       "      <th>Item</th>\n",
       "      <th>Itens Count</th>\n",
       "    </tr>\n",
       "  </thead>\n",
       "  <tbody>\n",
       "    <tr>\n",
       "      <th>19</th>\n",
       "      <td>Main Dishes</td>\n",
       "      <td>Grilled Chicken</td>\n",
       "      <td>866</td>\n",
       "    </tr>\n",
       "  </tbody>\n",
       "</table>\n",
       "</div>"
      ],
      "text/plain": [
       "       Category             Item  Itens Count\n",
       "19  Main Dishes  Grilled Chicken          866"
      ]
     },
     "execution_count": 162,
     "metadata": {},
     "output_type": "execute_result"
    }
   ],
   "source": [
    "items_counts = df.groupby(['Category','Item']).size()\n",
    "df_items_counts = items_counts.reset_index(name='Itens Count').sort_values(by='Itens Count',ascending=False)\n",
    "df_items_counts.sample()"
   ]
  },
  {
   "cell_type": "code",
   "execution_count": 163,
   "metadata": {},
   "outputs": [
    {
     "data": {
      "image/png": "[encoded data removed]",
      "text/plain": [
       "<Figure size 1000x1500 with 5 Axes>"
      ]
     },
     "metadata": {},
     "output_type": "display_data"
    }
   ],
   "source": [
    "fig, ax = plt.subplots(len(category), 1, figsize=(10, 15))\n",
    "\n",
    "for i, items in enumerate(category):\n",
    "    df_plot = df_items_counts[df_items_counts['Category'] == items].head(5)\n",
    "    df_plot.plot(kind='barh', x='Item', y='Itens Count', ax=ax[i], title=f'Top 5 Items for {items}')\n",
    "    ax[i].invert_yaxis()\n",
    "    ax[i].set_ylabel('')\n",
    "    \n",
    "    ax[i].legend().set_visible(False)\n",
    "    plt.tight_layout()\n",
    "\n"
   ]
  },
  {
   "cell_type": "code",
   "execution_count": 164,
   "metadata": {},
   "outputs": [
    {
     "data": {
      "text/html": [
       "<div>\n",
       "<style scoped>\n",
       "    .dataframe tbody tr th:only-of-type {\n",
       "        vertical-align: middle;\n",
       "    }\n",
       "\n",
       "    .dataframe tbody tr th {\n",
       "        vertical-align: top;\n",
       "    }\n",
       "\n",
       "    .dataframe thead th {\n",
       "        text-align: right;\n",
       "    }\n",
       "</style>\n",
       "<table border=\"1\" class=\"dataframe\">\n",
       "  <thead>\n",
       "    <tr style=\"text-align: right;\">\n",
       "      <th></th>\n",
       "      <th>Order ID</th>\n",
       "      <th>Customer ID</th>\n",
       "      <th>Category</th>\n",
       "      <th>Item</th>\n",
       "      <th>Price</th>\n",
       "      <th>Quantity</th>\n",
       "      <th>Order Total</th>\n",
       "      <th>Order Date</th>\n",
       "      <th>Payment Method</th>\n",
       "      <th>Order Month No</th>\n",
       "    </tr>\n",
       "  </thead>\n",
       "  <tbody>\n",
       "    <tr>\n",
       "      <th>0</th>\n",
       "      <td>ORD_705844</td>\n",
       "      <td>CUST_092</td>\n",
       "      <td>Side Dishes</td>\n",
       "      <td>Side Salad</td>\n",
       "      <td>3.0</td>\n",
       "      <td>1.0</td>\n",
       "      <td>3.0</td>\n",
       "      <td>2023-12-21</td>\n",
       "      <td>Credit Card</td>\n",
       "      <td>12</td>\n",
       "    </tr>\n",
       "    <tr>\n",
       "      <th>1</th>\n",
       "      <td>ORD_338528</td>\n",
       "      <td>CUST_021</td>\n",
       "      <td>Side Dishes</td>\n",
       "      <td>Mashed Potatoes</td>\n",
       "      <td>4.0</td>\n",
       "      <td>3.0</td>\n",
       "      <td>12.0</td>\n",
       "      <td>2023-05-19</td>\n",
       "      <td>Digital Wallet</td>\n",
       "      <td>5</td>\n",
       "    </tr>\n",
       "    <tr>\n",
       "      <th>2</th>\n",
       "      <td>ORD_443849</td>\n",
       "      <td>CUST_029</td>\n",
       "      <td>Main Dishes</td>\n",
       "      <td>Grilled Chicken</td>\n",
       "      <td>15.0</td>\n",
       "      <td>4.0</td>\n",
       "      <td>60.0</td>\n",
       "      <td>2023-09-27</td>\n",
       "      <td>Credit Card</td>\n",
       "      <td>9</td>\n",
       "    </tr>\n",
       "    <tr>\n",
       "      <th>4</th>\n",
       "      <td>ORD_648269</td>\n",
       "      <td>CUST_031</td>\n",
       "      <td>Main Dishes</td>\n",
       "      <td>Pasta Alfredo</td>\n",
       "      <td>12.0</td>\n",
       "      <td>4.0</td>\n",
       "      <td>48.0</td>\n",
       "      <td>2022-05-15</td>\n",
       "      <td>Cash</td>\n",
       "      <td>5</td>\n",
       "    </tr>\n",
       "    <tr>\n",
       "      <th>5</th>\n",
       "      <td>ORD_381680</td>\n",
       "      <td>CUST_031</td>\n",
       "      <td>Main Dishes</td>\n",
       "      <td>Salmon</td>\n",
       "      <td>18.0</td>\n",
       "      <td>5.0</td>\n",
       "      <td>90.0</td>\n",
       "      <td>2022-07-20</td>\n",
       "      <td>Digital Wallet</td>\n",
       "      <td>7</td>\n",
       "    </tr>\n",
       "    <tr>\n",
       "      <th>...</th>\n",
       "      <td>...</td>\n",
       "      <td>...</td>\n",
       "      <td>...</td>\n",
       "      <td>...</td>\n",
       "      <td>...</td>\n",
       "      <td>...</td>\n",
       "      <td>...</td>\n",
       "      <td>...</td>\n",
       "      <td>...</td>\n",
       "      <td>...</td>\n",
       "    </tr>\n",
       "    <tr>\n",
       "      <th>17528</th>\n",
       "      <td>ORD_721774</td>\n",
       "      <td>CUST_006</td>\n",
       "      <td>Side Dishes</td>\n",
       "      <td>Mashed Potatoes</td>\n",
       "      <td>4.0</td>\n",
       "      <td>5.0</td>\n",
       "      <td>20.0</td>\n",
       "      <td>2022-04-22</td>\n",
       "      <td>Digital Wallet</td>\n",
       "      <td>4</td>\n",
       "    </tr>\n",
       "    <tr>\n",
       "      <th>17530</th>\n",
       "      <td>ORD_974128</td>\n",
       "      <td>CUST_069</td>\n",
       "      <td>Desserts</td>\n",
       "      <td>Ice Cream</td>\n",
       "      <td>5.0</td>\n",
       "      <td>3.0</td>\n",
       "      <td>15.0</td>\n",
       "      <td>2023-12-18</td>\n",
       "      <td>Cash</td>\n",
       "      <td>12</td>\n",
       "    </tr>\n",
       "    <tr>\n",
       "      <th>17531</th>\n",
       "      <td>ORD_108324</td>\n",
       "      <td>CUST_050</td>\n",
       "      <td>Desserts</td>\n",
       "      <td>Ice Cream</td>\n",
       "      <td>5.0</td>\n",
       "      <td>4.0</td>\n",
       "      <td>20.0</td>\n",
       "      <td>2022-05-20</td>\n",
       "      <td>Digital Wallet</td>\n",
       "      <td>5</td>\n",
       "    </tr>\n",
       "    <tr>\n",
       "      <th>17532</th>\n",
       "      <td>ORD_612647</td>\n",
       "      <td>CUST_073</td>\n",
       "      <td>Side Dishes</td>\n",
       "      <td>Mashed Potatoes</td>\n",
       "      <td>4.0</td>\n",
       "      <td>2.0</td>\n",
       "      <td>8.0</td>\n",
       "      <td>2022-01-27</td>\n",
       "      <td>Digital Wallet</td>\n",
       "      <td>1</td>\n",
       "    </tr>\n",
       "    <tr>\n",
       "      <th>17533</th>\n",
       "      <td>ORD_680707</td>\n",
       "      <td>CUST_006</td>\n",
       "      <td>Desserts</td>\n",
       "      <td>Cheesecake</td>\n",
       "      <td>7.0</td>\n",
       "      <td>4.0</td>\n",
       "      <td>28.0</td>\n",
       "      <td>2023-01-07</td>\n",
       "      <td>Cash</td>\n",
       "      <td>1</td>\n",
       "    </tr>\n",
       "  </tbody>\n",
       "</table>\n",
       "<p>16658 rows × 10 columns</p>\n",
       "</div>"
      ],
      "text/plain": [
       "         Order ID Customer ID     Category             Item  Price  Quantity  \\\n",
       "0      ORD_705844    CUST_092  Side Dishes       Side Salad    3.0       1.0   \n",
       "1      ORD_338528    CUST_021  Side Dishes  Mashed Potatoes    4.0       3.0   \n",
       "2      ORD_443849    CUST_029  Main Dishes  Grilled Chicken   15.0       4.0   \n",
       "4      ORD_648269    CUST_031  Main Dishes    Pasta Alfredo   12.0       4.0   \n",
       "5      ORD_381680    CUST_031  Main Dishes           Salmon   18.0       5.0   \n",
       "...           ...         ...          ...              ...    ...       ...   \n",
       "17528  ORD_721774    CUST_006  Side Dishes  Mashed Potatoes    4.0       5.0   \n",
       "17530  ORD_974128    CUST_069     Desserts        Ice Cream    5.0       3.0   \n",
       "17531  ORD_108324    CUST_050     Desserts        Ice Cream    5.0       4.0   \n",
       "17532  ORD_612647    CUST_073  Side Dishes  Mashed Potatoes    4.0       2.0   \n",
       "17533  ORD_680707    CUST_006     Desserts       Cheesecake    7.0       4.0   \n",
       "\n",
       "       Order Total Order Date  Payment Method  Order Month No  \n",
       "0              3.0 2023-12-21     Credit Card              12  \n",
       "1             12.0 2023-05-19  Digital Wallet               5  \n",
       "2             60.0 2023-09-27     Credit Card               9  \n",
       "4             48.0 2022-05-15            Cash               5  \n",
       "5             90.0 2022-07-20  Digital Wallet               7  \n",
       "...            ...        ...             ...             ...  \n",
       "17528         20.0 2022-04-22  Digital Wallet               4  \n",
       "17530         15.0 2023-12-18            Cash              12  \n",
       "17531         20.0 2022-05-20  Digital Wallet               5  \n",
       "17532          8.0 2022-01-27  Digital Wallet               1  \n",
       "17533         28.0 2023-01-07            Cash               1  \n",
       "\n",
       "[16658 rows x 10 columns]"
      ]
     },
     "execution_count": 164,
     "metadata": {},
     "output_type": "execute_result"
    }
   ],
   "source": [
    "df"
   ]
  },
  {
   "cell_type": "code",
   "execution_count": 165,
   "metadata": {},
   "outputs": [
    {
     "data": {
      "text/plain": [
       "Text(0, 0.5, '')"
      ]
     },
     "execution_count": 165,
     "metadata": {},
     "output_type": "execute_result"
    },
    {
     "data": {
      "image/png": "[encoded data removed]",
      "text/plain": [
       "<Figure size 640x480 with 1 Axes>"
      ]
     },
     "metadata": {},
     "output_type": "display_data"
    }
   ],
   "source": [
    "payment_methods = df['Payment Method'].value_counts()\n",
    "\n",
    "payment_methods.plot(kind='pie',autopct='%1.1f%%')\n",
    "plt.ylabel('')"
   ]
  },
  {
   "cell_type": "code",
   "execution_count": 166,
   "metadata": {},
   "outputs": [
    {
     "data": {
      "text/html": [
       "<div>\n",
       "<style scoped>\n",
       "    .dataframe tbody tr th:only-of-type {\n",
       "        vertical-align: middle;\n",
       "    }\n",
       "\n",
       "    .dataframe tbody tr th {\n",
       "        vertical-align: top;\n",
       "    }\n",
       "\n",
       "    .dataframe thead th {\n",
       "        text-align: right;\n",
       "    }\n",
       "</style>\n",
       "<table border=\"1\" class=\"dataframe\">\n",
       "  <thead>\n",
       "    <tr style=\"text-align: right;\">\n",
       "      <th></th>\n",
       "      <th>Order ID</th>\n",
       "      <th>Customer ID</th>\n",
       "      <th>Category</th>\n",
       "      <th>Item</th>\n",
       "      <th>Price</th>\n",
       "      <th>Quantity</th>\n",
       "      <th>Order Total</th>\n",
       "      <th>Order Date</th>\n",
       "      <th>Payment Method</th>\n",
       "      <th>Order Month No</th>\n",
       "    </tr>\n",
       "  </thead>\n",
       "  <tbody>\n",
       "    <tr>\n",
       "      <th>16069</th>\n",
       "      <td>ORD_341503</td>\n",
       "      <td>CUST_044</td>\n",
       "      <td>Starters</td>\n",
       "      <td>French Fries</td>\n",
       "      <td>4.0</td>\n",
       "      <td>3.0</td>\n",
       "      <td>12.0</td>\n",
       "      <td>2023-09-26</td>\n",
       "      <td>Credit Card</td>\n",
       "      <td>9</td>\n",
       "    </tr>\n",
       "    <tr>\n",
       "      <th>11803</th>\n",
       "      <td>ORD_143201</td>\n",
       "      <td>CUST_099</td>\n",
       "      <td>Main Dishes</td>\n",
       "      <td>Salmon</td>\n",
       "      <td>18.0</td>\n",
       "      <td>5.0</td>\n",
       "      <td>90.0</td>\n",
       "      <td>2023-09-08</td>\n",
       "      <td>Digital Wallet</td>\n",
       "      <td>9</td>\n",
       "    </tr>\n",
       "    <tr>\n",
       "      <th>8451</th>\n",
       "      <td>ORD_556581</td>\n",
       "      <td>CUST_089</td>\n",
       "      <td>Side Dishes</td>\n",
       "      <td>Mashed Potatoes</td>\n",
       "      <td>4.0</td>\n",
       "      <td>5.0</td>\n",
       "      <td>20.0</td>\n",
       "      <td>2022-06-15</td>\n",
       "      <td>Cash</td>\n",
       "      <td>6</td>\n",
       "    </tr>\n",
       "    <tr>\n",
       "      <th>13112</th>\n",
       "      <td>ORD_314762</td>\n",
       "      <td>CUST_087</td>\n",
       "      <td>Desserts</td>\n",
       "      <td>Brownie</td>\n",
       "      <td>6.0</td>\n",
       "      <td>3.0</td>\n",
       "      <td>18.0</td>\n",
       "      <td>2022-03-31</td>\n",
       "      <td>Credit Card</td>\n",
       "      <td>3</td>\n",
       "    </tr>\n",
       "    <tr>\n",
       "      <th>15021</th>\n",
       "      <td>ORD_670079</td>\n",
       "      <td>CUST_096</td>\n",
       "      <td>Starters</td>\n",
       "      <td>Nachos Grande</td>\n",
       "      <td>10.0</td>\n",
       "      <td>4.0</td>\n",
       "      <td>40.0</td>\n",
       "      <td>2022-04-09</td>\n",
       "      <td>Cash</td>\n",
       "      <td>4</td>\n",
       "    </tr>\n",
       "  </tbody>\n",
       "</table>\n",
       "</div>"
      ],
      "text/plain": [
       "         Order ID Customer ID     Category             Item  Price  Quantity  \\\n",
       "16069  ORD_341503    CUST_044     Starters     French Fries    4.0       3.0   \n",
       "11803  ORD_143201    CUST_099  Main Dishes           Salmon   18.0       5.0   \n",
       "8451   ORD_556581    CUST_089  Side Dishes  Mashed Potatoes    4.0       5.0   \n",
       "13112  ORD_314762    CUST_087     Desserts          Brownie    6.0       3.0   \n",
       "15021  ORD_670079    CUST_096     Starters    Nachos Grande   10.0       4.0   \n",
       "\n",
       "       Order Total Order Date  Payment Method  Order Month No  \n",
       "16069         12.0 2023-09-26     Credit Card               9  \n",
       "11803         90.0 2023-09-08  Digital Wallet               9  \n",
       "8451          20.0 2022-06-15            Cash               6  \n",
       "13112         18.0 2022-03-31     Credit Card               3  \n",
       "15021         40.0 2022-04-09            Cash               4  "
      ]
     },
     "execution_count": 166,
     "metadata": {},
     "output_type": "execute_result"
    }
   ],
   "source": [
    "df.sample(5)"
   ]
  },
  {
   "cell_type": "code",
   "execution_count": 167,
   "metadata": {},
   "outputs": [
    {
     "data": {
      "text/plain": [
       "Category\n",
       "Main Dishes    3370\n",
       "Starters       3355\n",
       "Desserts       3316\n",
       "Side Dishes    3312\n",
       "Drinks         3305\n",
       "Name: count, dtype: int64"
      ]
     },
     "execution_count": 167,
     "metadata": {},
     "output_type": "execute_result"
    }
   ],
   "source": [
    "df['Category'].value_counts()"
   ]
  },
  {
   "cell_type": "code",
   "execution_count": 168,
   "metadata": {},
   "outputs": [
    {
     "data": {
      "text/html": [
       "<div>\n",
       "<style scoped>\n",
       "    .dataframe tbody tr th:only-of-type {\n",
       "        vertical-align: middle;\n",
       "    }\n",
       "\n",
       "    .dataframe tbody tr th {\n",
       "        vertical-align: top;\n",
       "    }\n",
       "\n",
       "    .dataframe thead th {\n",
       "        text-align: right;\n",
       "    }\n",
       "</style>\n",
       "<table border=\"1\" class=\"dataframe\">\n",
       "  <thead>\n",
       "    <tr style=\"text-align: right;\">\n",
       "      <th></th>\n",
       "      <th>Category</th>\n",
       "      <th>Item</th>\n",
       "      <th>count</th>\n",
       "    </tr>\n",
       "  </thead>\n",
       "  <tbody>\n",
       "    <tr>\n",
       "      <th>20</th>\n",
       "      <td>Main Dishes</td>\n",
       "      <td>Pasta Alfredo</td>\n",
       "      <td>1059</td>\n",
       "    </tr>\n",
       "    <tr>\n",
       "      <th>18</th>\n",
       "      <td>Drinks</td>\n",
       "      <td>Water</td>\n",
       "      <td>1022</td>\n",
       "    </tr>\n",
       "    <tr>\n",
       "      <th>34</th>\n",
       "      <td>Side Dishes</td>\n",
       "      <td>Side Salad</td>\n",
       "      <td>1002</td>\n",
       "    </tr>\n",
       "    <tr>\n",
       "      <th>9</th>\n",
       "      <td>Desserts</td>\n",
       "      <td>Ice Cream</td>\n",
       "      <td>947</td>\n",
       "    </tr>\n",
       "    <tr>\n",
       "      <th>40</th>\n",
       "      <td>Starters</td>\n",
       "      <td>French Fries</td>\n",
       "      <td>908</td>\n",
       "    </tr>\n",
       "  </tbody>\n",
       "</table>\n",
       "</div>"
      ],
      "text/plain": [
       "       Category           Item  count\n",
       "20  Main Dishes  Pasta Alfredo   1059\n",
       "18       Drinks          Water   1022\n",
       "34  Side Dishes     Side Salad   1002\n",
       "9      Desserts      Ice Cream    947\n",
       "40     Starters   French Fries    908"
      ]
     },
     "execution_count": 168,
     "metadata": {},
     "output_type": "execute_result"
    }
   ],
   "source": [
    "item_counts = df.groupby(['Category','Item']).size()\n",
    "df_item_counts = item_counts.reset_index(name='count').sort_values(by='count',ascending=False)\n",
    "df_item_counts.head(5)"
   ]
  },
  {
   "cell_type": "code",
   "execution_count": 169,
   "metadata": {},
   "outputs": [],
   "source": [
    "category = ['Main Dishes','Starters','Desserts','Side Dishes','Drinks']"
   ]
  },
  {
   "cell_type": "code",
   "execution_count": 170,
   "metadata": {},
   "outputs": [
    {
     "data": {
      "image/png": "[encoded data removed]",
      "text/plain": [
       "<Figure size 800x1200 with 5 Axes>"
      ]
     },
     "metadata": {},
     "output_type": "display_data"
    }
   ],
   "source": [
    "fig, ax = plt.subplots(5,1, figsize=(8, 12))\n",
    "\n",
    "for i, items in enumerate(category):\n",
    "    items_plot = df_item_counts[df_item_counts['Category'] == items].head(5)\n",
    "    ax[i].scatter(items_plot[\"count\"], items_plot[\"Item\"], color='b', marker='o')\n",
    "    ax[i].invert_yaxis()\n",
    "    ax[i].set_xlim(0, 1200)\n",
    "    plt.tight_layout()\n",
    "    \n",
    "    \n",
    "    "
   ]
  },
  {
   "cell_type": "code",
   "execution_count": 171,
   "metadata": {},
   "outputs": [
    {
     "data": {
      "text/html": [
       "<div>\n",
       "<style scoped>\n",
       "    .dataframe tbody tr th:only-of-type {\n",
       "        vertical-align: middle;\n",
       "    }\n",
       "\n",
       "    .dataframe tbody tr th {\n",
       "        vertical-align: top;\n",
       "    }\n",
       "\n",
       "    .dataframe thead th {\n",
       "        text-align: right;\n",
       "    }\n",
       "</style>\n",
       "<table border=\"1\" class=\"dataframe\">\n",
       "  <thead>\n",
       "    <tr style=\"text-align: right;\">\n",
       "      <th></th>\n",
       "      <th>Order ID</th>\n",
       "      <th>Customer ID</th>\n",
       "      <th>Category</th>\n",
       "      <th>Item</th>\n",
       "      <th>Price</th>\n",
       "      <th>Quantity</th>\n",
       "      <th>Order Total</th>\n",
       "      <th>Order Date</th>\n",
       "      <th>Payment Method</th>\n",
       "      <th>Order Month No</th>\n",
       "    </tr>\n",
       "  </thead>\n",
       "  <tbody>\n",
       "    <tr>\n",
       "      <th>0</th>\n",
       "      <td>ORD_705844</td>\n",
       "      <td>CUST_092</td>\n",
       "      <td>Side Dishes</td>\n",
       "      <td>Side Salad</td>\n",
       "      <td>3.0</td>\n",
       "      <td>1.0</td>\n",
       "      <td>3.0</td>\n",
       "      <td>2023-12-21</td>\n",
       "      <td>Credit Card</td>\n",
       "      <td>12</td>\n",
       "    </tr>\n",
       "    <tr>\n",
       "      <th>1</th>\n",
       "      <td>ORD_338528</td>\n",
       "      <td>CUST_021</td>\n",
       "      <td>Side Dishes</td>\n",
       "      <td>Mashed Potatoes</td>\n",
       "      <td>4.0</td>\n",
       "      <td>3.0</td>\n",
       "      <td>12.0</td>\n",
       "      <td>2023-05-19</td>\n",
       "      <td>Digital Wallet</td>\n",
       "      <td>5</td>\n",
       "    </tr>\n",
       "    <tr>\n",
       "      <th>2</th>\n",
       "      <td>ORD_443849</td>\n",
       "      <td>CUST_029</td>\n",
       "      <td>Main Dishes</td>\n",
       "      <td>Grilled Chicken</td>\n",
       "      <td>15.0</td>\n",
       "      <td>4.0</td>\n",
       "      <td>60.0</td>\n",
       "      <td>2023-09-27</td>\n",
       "      <td>Credit Card</td>\n",
       "      <td>9</td>\n",
       "    </tr>\n",
       "    <tr>\n",
       "      <th>4</th>\n",
       "      <td>ORD_648269</td>\n",
       "      <td>CUST_031</td>\n",
       "      <td>Main Dishes</td>\n",
       "      <td>Pasta Alfredo</td>\n",
       "      <td>12.0</td>\n",
       "      <td>4.0</td>\n",
       "      <td>48.0</td>\n",
       "      <td>2022-05-15</td>\n",
       "      <td>Cash</td>\n",
       "      <td>5</td>\n",
       "    </tr>\n",
       "    <tr>\n",
       "      <th>5</th>\n",
       "      <td>ORD_381680</td>\n",
       "      <td>CUST_031</td>\n",
       "      <td>Main Dishes</td>\n",
       "      <td>Salmon</td>\n",
       "      <td>18.0</td>\n",
       "      <td>5.0</td>\n",
       "      <td>90.0</td>\n",
       "      <td>2022-07-20</td>\n",
       "      <td>Digital Wallet</td>\n",
       "      <td>7</td>\n",
       "    </tr>\n",
       "    <tr>\n",
       "      <th>...</th>\n",
       "      <td>...</td>\n",
       "      <td>...</td>\n",
       "      <td>...</td>\n",
       "      <td>...</td>\n",
       "      <td>...</td>\n",
       "      <td>...</td>\n",
       "      <td>...</td>\n",
       "      <td>...</td>\n",
       "      <td>...</td>\n",
       "      <td>...</td>\n",
       "    </tr>\n",
       "    <tr>\n",
       "      <th>17528</th>\n",
       "      <td>ORD_721774</td>\n",
       "      <td>CUST_006</td>\n",
       "      <td>Side Dishes</td>\n",
       "      <td>Mashed Potatoes</td>\n",
       "      <td>4.0</td>\n",
       "      <td>5.0</td>\n",
       "      <td>20.0</td>\n",
       "      <td>2022-04-22</td>\n",
       "      <td>Digital Wallet</td>\n",
       "      <td>4</td>\n",
       "    </tr>\n",
       "    <tr>\n",
       "      <th>17530</th>\n",
       "      <td>ORD_974128</td>\n",
       "      <td>CUST_069</td>\n",
       "      <td>Desserts</td>\n",
       "      <td>Ice Cream</td>\n",
       "      <td>5.0</td>\n",
       "      <td>3.0</td>\n",
       "      <td>15.0</td>\n",
       "      <td>2023-12-18</td>\n",
       "      <td>Cash</td>\n",
       "      <td>12</td>\n",
       "    </tr>\n",
       "    <tr>\n",
       "      <th>17531</th>\n",
       "      <td>ORD_108324</td>\n",
       "      <td>CUST_050</td>\n",
       "      <td>Desserts</td>\n",
       "      <td>Ice Cream</td>\n",
       "      <td>5.0</td>\n",
       "      <td>4.0</td>\n",
       "      <td>20.0</td>\n",
       "      <td>2022-05-20</td>\n",
       "      <td>Digital Wallet</td>\n",
       "      <td>5</td>\n",
       "    </tr>\n",
       "    <tr>\n",
       "      <th>17532</th>\n",
       "      <td>ORD_612647</td>\n",
       "      <td>CUST_073</td>\n",
       "      <td>Side Dishes</td>\n",
       "      <td>Mashed Potatoes</td>\n",
       "      <td>4.0</td>\n",
       "      <td>2.0</td>\n",
       "      <td>8.0</td>\n",
       "      <td>2022-01-27</td>\n",
       "      <td>Digital Wallet</td>\n",
       "      <td>1</td>\n",
       "    </tr>\n",
       "    <tr>\n",
       "      <th>17533</th>\n",
       "      <td>ORD_680707</td>\n",
       "      <td>CUST_006</td>\n",
       "      <td>Desserts</td>\n",
       "      <td>Cheesecake</td>\n",
       "      <td>7.0</td>\n",
       "      <td>4.0</td>\n",
       "      <td>28.0</td>\n",
       "      <td>2023-01-07</td>\n",
       "      <td>Cash</td>\n",
       "      <td>1</td>\n",
       "    </tr>\n",
       "  </tbody>\n",
       "</table>\n",
       "<p>16658 rows × 10 columns</p>\n",
       "</div>"
      ],
      "text/plain": [
       "         Order ID Customer ID     Category             Item  Price  Quantity  \\\n",
       "0      ORD_705844    CUST_092  Side Dishes       Side Salad    3.0       1.0   \n",
       "1      ORD_338528    CUST_021  Side Dishes  Mashed Potatoes    4.0       3.0   \n",
       "2      ORD_443849    CUST_029  Main Dishes  Grilled Chicken   15.0       4.0   \n",
       "4      ORD_648269    CUST_031  Main Dishes    Pasta Alfredo   12.0       4.0   \n",
       "5      ORD_381680    CUST_031  Main Dishes           Salmon   18.0       5.0   \n",
       "...           ...         ...          ...              ...    ...       ...   \n",
       "17528  ORD_721774    CUST_006  Side Dishes  Mashed Potatoes    4.0       5.0   \n",
       "17530  ORD_974128    CUST_069     Desserts        Ice Cream    5.0       3.0   \n",
       "17531  ORD_108324    CUST_050     Desserts        Ice Cream    5.0       4.0   \n",
       "17532  ORD_612647    CUST_073  Side Dishes  Mashed Potatoes    4.0       2.0   \n",
       "17533  ORD_680707    CUST_006     Desserts       Cheesecake    7.0       4.0   \n",
       "\n",
       "       Order Total Order Date  Payment Method  Order Month No  \n",
       "0              3.0 2023-12-21     Credit Card              12  \n",
       "1             12.0 2023-05-19  Digital Wallet               5  \n",
       "2             60.0 2023-09-27     Credit Card               9  \n",
       "4             48.0 2022-05-15            Cash               5  \n",
       "5             90.0 2022-07-20  Digital Wallet               7  \n",
       "...            ...        ...             ...             ...  \n",
       "17528         20.0 2022-04-22  Digital Wallet               4  \n",
       "17530         15.0 2023-12-18            Cash              12  \n",
       "17531         20.0 2022-05-20  Digital Wallet               5  \n",
       "17532          8.0 2022-01-27  Digital Wallet               1  \n",
       "17533         28.0 2023-01-07            Cash               1  \n",
       "\n",
       "[16658 rows x 10 columns]"
      ]
     },
     "execution_count": 171,
     "metadata": {},
     "output_type": "execute_result"
    }
   ],
   "source": [
    "df"
   ]
  },
  {
   "cell_type": "code",
   "execution_count": 172,
   "metadata": {},
   "outputs": [],
   "source": [
    "category_payment = df.groupby(['Category', 'Price'])['Payment Method'].agg(lambda x: x.mode()[0])\n",
    "category_payment = category_payment.reset_index().sort_values(by='Price',ascending=False)"
   ]
  },
  {
   "cell_type": "code",
   "execution_count": 173,
   "metadata": {},
   "outputs": [
    {
     "data": {
      "text/html": [
       "<div>\n",
       "<style scoped>\n",
       "    .dataframe tbody tr th:only-of-type {\n",
       "        vertical-align: middle;\n",
       "    }\n",
       "\n",
       "    .dataframe tbody tr th {\n",
       "        vertical-align: top;\n",
       "    }\n",
       "\n",
       "    .dataframe thead th {\n",
       "        text-align: right;\n",
       "    }\n",
       "</style>\n",
       "<table border=\"1\" class=\"dataframe\">\n",
       "  <thead>\n",
       "    <tr style=\"text-align: right;\">\n",
       "      <th></th>\n",
       "      <th>Category</th>\n",
       "      <th>Price</th>\n",
       "      <th>Payment Method</th>\n",
       "    </tr>\n",
       "  </thead>\n",
       "  <tbody>\n",
       "    <tr>\n",
       "      <th>11</th>\n",
       "      <td>Main Dishes</td>\n",
       "      <td>20.0</td>\n",
       "      <td>Cash</td>\n",
       "    </tr>\n",
       "    <tr>\n",
       "      <th>10</th>\n",
       "      <td>Main Dishes</td>\n",
       "      <td>18.0</td>\n",
       "      <td>Cash</td>\n",
       "    </tr>\n",
       "    <tr>\n",
       "      <th>9</th>\n",
       "      <td>Main Dishes</td>\n",
       "      <td>15.0</td>\n",
       "      <td>Cash</td>\n",
       "    </tr>\n",
       "    <tr>\n",
       "      <th>8</th>\n",
       "      <td>Main Dishes</td>\n",
       "      <td>14.0</td>\n",
       "      <td>Cash</td>\n",
       "    </tr>\n",
       "    <tr>\n",
       "      <th>7</th>\n",
       "      <td>Main Dishes</td>\n",
       "      <td>12.0</td>\n",
       "      <td>Cash</td>\n",
       "    </tr>\n",
       "    <tr>\n",
       "      <th>19</th>\n",
       "      <td>Starters</td>\n",
       "      <td>10.0</td>\n",
       "      <td>Cash</td>\n",
       "    </tr>\n",
       "    <tr>\n",
       "      <th>18</th>\n",
       "      <td>Starters</td>\n",
       "      <td>8.0</td>\n",
       "      <td>Cash</td>\n",
       "    </tr>\n",
       "    <tr>\n",
       "      <th>3</th>\n",
       "      <td>Desserts</td>\n",
       "      <td>7.0</td>\n",
       "      <td>Cash</td>\n",
       "    </tr>\n",
       "    <tr>\n",
       "      <th>17</th>\n",
       "      <td>Starters</td>\n",
       "      <td>7.0</td>\n",
       "      <td>Cash</td>\n",
       "    </tr>\n",
       "    <tr>\n",
       "      <th>2</th>\n",
       "      <td>Desserts</td>\n",
       "      <td>6.0</td>\n",
       "      <td>Cash</td>\n",
       "    </tr>\n",
       "    <tr>\n",
       "      <th>16</th>\n",
       "      <td>Starters</td>\n",
       "      <td>5.0</td>\n",
       "      <td>Cash</td>\n",
       "    </tr>\n",
       "    <tr>\n",
       "      <th>1</th>\n",
       "      <td>Desserts</td>\n",
       "      <td>5.0</td>\n",
       "      <td>Cash</td>\n",
       "    </tr>\n",
       "    <tr>\n",
       "      <th>14</th>\n",
       "      <td>Side Dishes</td>\n",
       "      <td>5.0</td>\n",
       "      <td>Cash</td>\n",
       "    </tr>\n",
       "    <tr>\n",
       "      <th>0</th>\n",
       "      <td>Desserts</td>\n",
       "      <td>4.0</td>\n",
       "      <td>Cash</td>\n",
       "    </tr>\n",
       "    <tr>\n",
       "      <th>15</th>\n",
       "      <td>Starters</td>\n",
       "      <td>4.0</td>\n",
       "      <td>Cash</td>\n",
       "    </tr>\n",
       "    <tr>\n",
       "      <th>13</th>\n",
       "      <td>Side Dishes</td>\n",
       "      <td>4.0</td>\n",
       "      <td>Credit Card</td>\n",
       "    </tr>\n",
       "    <tr>\n",
       "      <th>6</th>\n",
       "      <td>Drinks</td>\n",
       "      <td>3.0</td>\n",
       "      <td>Cash</td>\n",
       "    </tr>\n",
       "    <tr>\n",
       "      <th>12</th>\n",
       "      <td>Side Dishes</td>\n",
       "      <td>3.0</td>\n",
       "      <td>Cash</td>\n",
       "    </tr>\n",
       "    <tr>\n",
       "      <th>5</th>\n",
       "      <td>Drinks</td>\n",
       "      <td>2.5</td>\n",
       "      <td>Cash</td>\n",
       "    </tr>\n",
       "    <tr>\n",
       "      <th>4</th>\n",
       "      <td>Drinks</td>\n",
       "      <td>1.0</td>\n",
       "      <td>Cash</td>\n",
       "    </tr>\n",
       "  </tbody>\n",
       "</table>\n",
       "</div>"
      ],
      "text/plain": [
       "       Category  Price Payment Method\n",
       "11  Main Dishes   20.0           Cash\n",
       "10  Main Dishes   18.0           Cash\n",
       "9   Main Dishes   15.0           Cash\n",
       "8   Main Dishes   14.0           Cash\n",
       "7   Main Dishes   12.0           Cash\n",
       "19     Starters   10.0           Cash\n",
       "18     Starters    8.0           Cash\n",
       "3      Desserts    7.0           Cash\n",
       "17     Starters    7.0           Cash\n",
       "2      Desserts    6.0           Cash\n",
       "16     Starters    5.0           Cash\n",
       "1      Desserts    5.0           Cash\n",
       "14  Side Dishes    5.0           Cash\n",
       "0      Desserts    4.0           Cash\n",
       "15     Starters    4.0           Cash\n",
       "13  Side Dishes    4.0    Credit Card\n",
       "6        Drinks    3.0           Cash\n",
       "12  Side Dishes    3.0           Cash\n",
       "5        Drinks    2.5           Cash\n",
       "4        Drinks    1.0           Cash"
      ]
     },
     "execution_count": 173,
     "metadata": {},
     "output_type": "execute_result"
    }
   ],
   "source": [
    "category_payment"
   ]
  },
  {
   "cell_type": "code",
   "execution_count": 174,
   "metadata": {},
   "outputs": [
    {
     "data": {
      "text/plain": [
       "<Axes: ylabel='Frequency'>"
      ]
     },
     "execution_count": 174,
     "metadata": {},
     "output_type": "execute_result"
    },
    {
     "data": {
      "image/png": "[encoded data removed]",
      "text/plain": [
       "<Figure size 640x480 with 1 Axes>"
      ]
     },
     "metadata": {},
     "output_type": "display_data"
    }
   ],
   "source": [
    "df_main_dishes = df[df['Category'] == 'Main Dishes'].copy()\n",
    "df_main_dishes['Price'].plot(kind='hist',bins=2,edgecolor='black')"
   ]
  },
  {
   "cell_type": "code",
   "execution_count": 175,
   "metadata": {},
   "outputs": [
    {
     "data": {
      "text/html": [
       "<div>\n",
       "<style scoped>\n",
       "    .dataframe tbody tr th:only-of-type {\n",
       "        vertical-align: middle;\n",
       "    }\n",
       "\n",
       "    .dataframe tbody tr th {\n",
       "        vertical-align: top;\n",
       "    }\n",
       "\n",
       "    .dataframe thead th {\n",
       "        text-align: right;\n",
       "    }\n",
       "</style>\n",
       "<table border=\"1\" class=\"dataframe\">\n",
       "  <thead>\n",
       "    <tr style=\"text-align: right;\">\n",
       "      <th></th>\n",
       "      <th>Order ID</th>\n",
       "      <th>Customer ID</th>\n",
       "      <th>Category</th>\n",
       "      <th>Item</th>\n",
       "      <th>Price</th>\n",
       "      <th>Quantity</th>\n",
       "      <th>Order Total</th>\n",
       "      <th>Order Date</th>\n",
       "      <th>Payment Method</th>\n",
       "      <th>Order Month No</th>\n",
       "    </tr>\n",
       "  </thead>\n",
       "  <tbody>\n",
       "    <tr>\n",
       "      <th>0</th>\n",
       "      <td>ORD_705844</td>\n",
       "      <td>CUST_092</td>\n",
       "      <td>Side Dishes</td>\n",
       "      <td>Side Salad</td>\n",
       "      <td>3.0</td>\n",
       "      <td>1.0</td>\n",
       "      <td>3.0</td>\n",
       "      <td>2023-12-21</td>\n",
       "      <td>Credit Card</td>\n",
       "      <td>12</td>\n",
       "    </tr>\n",
       "    <tr>\n",
       "      <th>1</th>\n",
       "      <td>ORD_338528</td>\n",
       "      <td>CUST_021</td>\n",
       "      <td>Side Dishes</td>\n",
       "      <td>Mashed Potatoes</td>\n",
       "      <td>4.0</td>\n",
       "      <td>3.0</td>\n",
       "      <td>12.0</td>\n",
       "      <td>2023-05-19</td>\n",
       "      <td>Digital Wallet</td>\n",
       "      <td>5</td>\n",
       "    </tr>\n",
       "    <tr>\n",
       "      <th>2</th>\n",
       "      <td>ORD_443849</td>\n",
       "      <td>CUST_029</td>\n",
       "      <td>Main Dishes</td>\n",
       "      <td>Grilled Chicken</td>\n",
       "      <td>15.0</td>\n",
       "      <td>4.0</td>\n",
       "      <td>60.0</td>\n",
       "      <td>2023-09-27</td>\n",
       "      <td>Credit Card</td>\n",
       "      <td>9</td>\n",
       "    </tr>\n",
       "    <tr>\n",
       "      <th>4</th>\n",
       "      <td>ORD_648269</td>\n",
       "      <td>CUST_031</td>\n",
       "      <td>Main Dishes</td>\n",
       "      <td>Pasta Alfredo</td>\n",
       "      <td>12.0</td>\n",
       "      <td>4.0</td>\n",
       "      <td>48.0</td>\n",
       "      <td>2022-05-15</td>\n",
       "      <td>Cash</td>\n",
       "      <td>5</td>\n",
       "    </tr>\n",
       "    <tr>\n",
       "      <th>5</th>\n",
       "      <td>ORD_381680</td>\n",
       "      <td>CUST_031</td>\n",
       "      <td>Main Dishes</td>\n",
       "      <td>Salmon</td>\n",
       "      <td>18.0</td>\n",
       "      <td>5.0</td>\n",
       "      <td>90.0</td>\n",
       "      <td>2022-07-20</td>\n",
       "      <td>Digital Wallet</td>\n",
       "      <td>7</td>\n",
       "    </tr>\n",
       "    <tr>\n",
       "      <th>...</th>\n",
       "      <td>...</td>\n",
       "      <td>...</td>\n",
       "      <td>...</td>\n",
       "      <td>...</td>\n",
       "      <td>...</td>\n",
       "      <td>...</td>\n",
       "      <td>...</td>\n",
       "      <td>...</td>\n",
       "      <td>...</td>\n",
       "      <td>...</td>\n",
       "    </tr>\n",
       "    <tr>\n",
       "      <th>17528</th>\n",
       "      <td>ORD_721774</td>\n",
       "      <td>CUST_006</td>\n",
       "      <td>Side Dishes</td>\n",
       "      <td>Mashed Potatoes</td>\n",
       "      <td>4.0</td>\n",
       "      <td>5.0</td>\n",
       "      <td>20.0</td>\n",
       "      <td>2022-04-22</td>\n",
       "      <td>Digital Wallet</td>\n",
       "      <td>4</td>\n",
       "    </tr>\n",
       "    <tr>\n",
       "      <th>17530</th>\n",
       "      <td>ORD_974128</td>\n",
       "      <td>CUST_069</td>\n",
       "      <td>Desserts</td>\n",
       "      <td>Ice Cream</td>\n",
       "      <td>5.0</td>\n",
       "      <td>3.0</td>\n",
       "      <td>15.0</td>\n",
       "      <td>2023-12-18</td>\n",
       "      <td>Cash</td>\n",
       "      <td>12</td>\n",
       "    </tr>\n",
       "    <tr>\n",
       "      <th>17531</th>\n",
       "      <td>ORD_108324</td>\n",
       "      <td>CUST_050</td>\n",
       "      <td>Desserts</td>\n",
       "      <td>Ice Cream</td>\n",
       "      <td>5.0</td>\n",
       "      <td>4.0</td>\n",
       "      <td>20.0</td>\n",
       "      <td>2022-05-20</td>\n",
       "      <td>Digital Wallet</td>\n",
       "      <td>5</td>\n",
       "    </tr>\n",
       "    <tr>\n",
       "      <th>17532</th>\n",
       "      <td>ORD_612647</td>\n",
       "      <td>CUST_073</td>\n",
       "      <td>Side Dishes</td>\n",
       "      <td>Mashed Potatoes</td>\n",
       "      <td>4.0</td>\n",
       "      <td>2.0</td>\n",
       "      <td>8.0</td>\n",
       "      <td>2022-01-27</td>\n",
       "      <td>Digital Wallet</td>\n",
       "      <td>1</td>\n",
       "    </tr>\n",
       "    <tr>\n",
       "      <th>17533</th>\n",
       "      <td>ORD_680707</td>\n",
       "      <td>CUST_006</td>\n",
       "      <td>Desserts</td>\n",
       "      <td>Cheesecake</td>\n",
       "      <td>7.0</td>\n",
       "      <td>4.0</td>\n",
       "      <td>28.0</td>\n",
       "      <td>2023-01-07</td>\n",
       "      <td>Cash</td>\n",
       "      <td>1</td>\n",
       "    </tr>\n",
       "  </tbody>\n",
       "</table>\n",
       "<p>16658 rows × 10 columns</p>\n",
       "</div>"
      ],
      "text/plain": [
       "         Order ID Customer ID     Category             Item  Price  Quantity  \\\n",
       "0      ORD_705844    CUST_092  Side Dishes       Side Salad    3.0       1.0   \n",
       "1      ORD_338528    CUST_021  Side Dishes  Mashed Potatoes    4.0       3.0   \n",
       "2      ORD_443849    CUST_029  Main Dishes  Grilled Chicken   15.0       4.0   \n",
       "4      ORD_648269    CUST_031  Main Dishes    Pasta Alfredo   12.0       4.0   \n",
       "5      ORD_381680    CUST_031  Main Dishes           Salmon   18.0       5.0   \n",
       "...           ...         ...          ...              ...    ...       ...   \n",
       "17528  ORD_721774    CUST_006  Side Dishes  Mashed Potatoes    4.0       5.0   \n",
       "17530  ORD_974128    CUST_069     Desserts        Ice Cream    5.0       3.0   \n",
       "17531  ORD_108324    CUST_050     Desserts        Ice Cream    5.0       4.0   \n",
       "17532  ORD_612647    CUST_073  Side Dishes  Mashed Potatoes    4.0       2.0   \n",
       "17533  ORD_680707    CUST_006     Desserts       Cheesecake    7.0       4.0   \n",
       "\n",
       "       Order Total Order Date  Payment Method  Order Month No  \n",
       "0              3.0 2023-12-21     Credit Card              12  \n",
       "1             12.0 2023-05-19  Digital Wallet               5  \n",
       "2             60.0 2023-09-27     Credit Card               9  \n",
       "4             48.0 2022-05-15            Cash               5  \n",
       "5             90.0 2022-07-20  Digital Wallet               7  \n",
       "...            ...        ...             ...             ...  \n",
       "17528         20.0 2022-04-22  Digital Wallet               4  \n",
       "17530         15.0 2023-12-18            Cash              12  \n",
       "17531         20.0 2022-05-20  Digital Wallet               5  \n",
       "17532          8.0 2022-01-27  Digital Wallet               1  \n",
       "17533         28.0 2023-01-07            Cash               1  \n",
       "\n",
       "[16658 rows x 10 columns]"
      ]
     },
     "execution_count": 175,
     "metadata": {},
     "output_type": "execute_result"
    }
   ],
   "source": [
    "df"
   ]
  },
  {
   "cell_type": "code",
   "execution_count": 176,
   "metadata": {},
   "outputs": [
    {
     "name": "stderr",
     "output_type": "stream",
     "text": [
      "C:\\Users\\aungh\\AppData\\Local\\Temp\\ipykernel_4596\\2985428428.py:11: MatplotlibDeprecationWarning: The 'labels' parameter of boxplot() has been renamed 'tick_labels' since Matplotlib 3.9; support for the old name will be dropped in 3.11.\n",
      "  plt.boxplot(dish_list, labels=main_dishes, vert=False)\n"
     ]
    },
    {
     "data": {
      "image/png": "[encoded data removed]",
      "text/plain": [
       "<Figure size 640x480 with 1 Axes>"
      ]
     },
     "metadata": {},
     "output_type": "display_data"
    }
   ],
   "source": [
    "# List of main dishes\n",
    "main_dishes = ['Grilled Chicken', 'Pasta Alfredo', 'Salmon']\n",
    "\n",
    "# Filter the DataFrame for the specified main dishes and category\n",
    "df_MD = df[(df['Item'].isin(main_dishes)) & (df['Category'] == 'Main Dishes')]\n",
    "\n",
    "# Extract the 'Price' column for each dish\n",
    "dish_list = [df_MD[df_MD['Item'] == main_dish]['Price'] for main_dish in main_dishes]\n",
    "\n",
    "# Create a box plot\n",
    "plt.boxplot(dish_list, labels=main_dishes, vert=False)\n",
    "plt.title('Price Distribution of Main Dishes')\n",
    "plt.xlabel('Price ($)')\n",
    "\n",
    "plt.show()"
   ]
  },
  {
   "cell_type": "code",
   "execution_count": null,
   "metadata": {},
   "outputs": [],
   "source": []
  },
  {
   "cell_type": "code",
   "execution_count": 178,
   "metadata": {},
   "outputs": [],
   "source": [
    "df_main_dishes = df[df['Category'] == 'Main Dishes'].copy()"
   ]
  },
  {
   "cell_type": "code",
   "execution_count": null,
   "metadata": {},
   "outputs": [],
   "source": [
    "top_ordered_main_dishes = "
   ]
  },
  {
   "cell_type": "code",
   "execution_count": 187,
   "metadata": {},
   "outputs": [
    {
     "data": {
      "text/html": [
       "<div>\n",
       "<style scoped>\n",
       "    .dataframe tbody tr th:only-of-type {\n",
       "        vertical-align: middle;\n",
       "    }\n",
       "\n",
       "    .dataframe tbody tr th {\n",
       "        vertical-align: top;\n",
       "    }\n",
       "\n",
       "    .dataframe thead th {\n",
       "        text-align: right;\n",
       "    }\n",
       "</style>\n",
       "<table border=\"1\" class=\"dataframe\">\n",
       "  <thead>\n",
       "    <tr style=\"text-align: right;\">\n",
       "      <th></th>\n",
       "      <th>count</th>\n",
       "      <th>median</th>\n",
       "    </tr>\n",
       "    <tr>\n",
       "      <th>Item</th>\n",
       "      <th></th>\n",
       "      <th></th>\n",
       "    </tr>\n",
       "  </thead>\n",
       "  <tbody>\n",
       "    <tr>\n",
       "      <th>Pasta Alfredo</th>\n",
       "      <td>1059</td>\n",
       "      <td>12.0</td>\n",
       "    </tr>\n",
       "    <tr>\n",
       "      <th>Grilled Chicken</th>\n",
       "      <td>866</td>\n",
       "      <td>15.0</td>\n",
       "    </tr>\n",
       "    <tr>\n",
       "      <th>Steak</th>\n",
       "      <td>597</td>\n",
       "      <td>20.0</td>\n",
       "    </tr>\n",
       "    <tr>\n",
       "      <th>Salmon</th>\n",
       "      <td>445</td>\n",
       "      <td>18.0</td>\n",
       "    </tr>\n",
       "    <tr>\n",
       "      <th>Vegetarian Platter</th>\n",
       "      <td>403</td>\n",
       "      <td>14.0</td>\n",
       "    </tr>\n",
       "  </tbody>\n",
       "</table>\n",
       "</div>"
      ],
      "text/plain": [
       "                    count  median\n",
       "Item                             \n",
       "Pasta Alfredo        1059    12.0\n",
       "Grilled Chicken       866    15.0\n",
       "Steak                 597    20.0\n",
       "Salmon                445    18.0\n",
       "Vegetarian Platter    403    14.0"
      ]
     },
     "execution_count": 187,
     "metadata": {},
     "output_type": "execute_result"
    }
   ],
   "source": [
    "top_ordered_main_dishes = (df_main_dishes.groupby(['Item'])['Price'].agg(['count','median'])\n",
    "                           .sort_values(by='count',ascending=False))\n",
    "\n",
    "top_ordered_main_dishes"
   ]
  },
  {
   "cell_type": "code",
   "execution_count": 191,
   "metadata": {},
   "outputs": [
    {
     "data": {
      "text/html": [
       "<div>\n",
       "<style scoped>\n",
       "    .dataframe tbody tr th:only-of-type {\n",
       "        vertical-align: middle;\n",
       "    }\n",
       "\n",
       "    .dataframe tbody tr th {\n",
       "        vertical-align: top;\n",
       "    }\n",
       "\n",
       "    .dataframe thead th {\n",
       "        text-align: right;\n",
       "    }\n",
       "</style>\n",
       "<table border=\"1\" class=\"dataframe\">\n",
       "  <thead>\n",
       "    <tr style=\"text-align: right;\">\n",
       "      <th></th>\n",
       "      <th>count</th>\n",
       "      <th>median</th>\n",
       "    </tr>\n",
       "    <tr>\n",
       "      <th>Item</th>\n",
       "      <th></th>\n",
       "      <th></th>\n",
       "    </tr>\n",
       "  </thead>\n",
       "  <tbody>\n",
       "    <tr>\n",
       "      <th>Steak</th>\n",
       "      <td>597</td>\n",
       "      <td>20.0</td>\n",
       "    </tr>\n",
       "    <tr>\n",
       "      <th>Salmon</th>\n",
       "      <td>445</td>\n",
       "      <td>18.0</td>\n",
       "    </tr>\n",
       "    <tr>\n",
       "      <th>Grilled Chicken</th>\n",
       "      <td>866</td>\n",
       "      <td>15.0</td>\n",
       "    </tr>\n",
       "    <tr>\n",
       "      <th>Vegetarian Platter</th>\n",
       "      <td>403</td>\n",
       "      <td>14.0</td>\n",
       "    </tr>\n",
       "    <tr>\n",
       "      <th>Pasta Alfredo</th>\n",
       "      <td>1059</td>\n",
       "      <td>12.0</td>\n",
       "    </tr>\n",
       "  </tbody>\n",
       "</table>\n",
       "</div>"
      ],
      "text/plain": [
       "                    count  median\n",
       "Item                             \n",
       "Steak                 597    20.0\n",
       "Salmon                445    18.0\n",
       "Grilled Chicken       866    15.0\n",
       "Vegetarian Platter    403    14.0\n",
       "Pasta Alfredo        1059    12.0"
      ]
     },
     "execution_count": 191,
     "metadata": {},
     "output_type": "execute_result"
    }
   ],
   "source": [
    "Most_expansive_main_dishes = (df_main_dishes.groupby(['Item'])['Price'].agg(['count','median'])\n",
    "                              .sort_values(by='median',ascending=False))\n",
    "\n",
    "Most_expansive_main_dishes"
   ]
  },
  {
   "cell_type": "code",
   "execution_count": 209,
   "metadata": {},
   "outputs": [
    {
     "data": {
      "image/png": "[encoded data removed]",
      "text/plain": [
       "<Figure size 640x480 with 2 Axes>"
      ]
     },
     "metadata": {},
     "output_type": "display_data"
    }
   ],
   "source": [
    "fig, ax = plt.subplots(2,1)\n",
    "\n",
    "top_ordered_main_dishes.plot(kind='barh',ax=ax[0],y='count')\n",
    "ax[0].set_title('Top Ordered Main Dishes')\n",
    "ax[0].invert_yaxis()\n",
    "\n",
    "Most_expansive_main_dishes.plot(kind='barh',ax=ax[1],y='median')\n",
    "ax[1].set_title('Most Expansive Main Dishes')\n",
    "ax[1].xaxis.set_major_formatter(plt.FuncFormatter(lambda x, _: f'${int(x/1)}'))\n",
    "ax[1].invert_yaxis()\n",
    "\n",
    "plt.tight_layout()\n",
    "plt.show()"
   ]
  },
  {
   "cell_type": "code",
   "execution_count": null,
   "metadata": {},
   "outputs": [],
   "source": []
  }
 ],
 "metadata": {
  "kernelspec": {
   "display_name": "python_course",
   "language": "python",
   "name": "python3"
  },
  "language_info": {
   "codemirror_mode": {
    "name": "ipython",
    "version": 3
   },
   "file_extension": ".py",
   "mimetype": "text/x-python",
   "name": "python",
   "nbconvert_exporter": "python",
   "pygments_lexer": "ipython3",
   "version": "3.12.3"
  }
 },
 "nbformat": 4,
 "nbformat_minor": 2
}
